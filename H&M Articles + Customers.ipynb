{
 "cells": [
  {
   "cell_type": "markdown",
   "id": "d92dfbea",
   "metadata": {},
   "source": [
    "# Mid Term Project"
   ]
  },
  {
   "cell_type": "markdown",
   "id": "a2a2be2b",
   "metadata": {},
   "source": [
    "### Business inteligence Project\n",
    "\n",
    "**Introduction**\n",
    "\n",
    "H & M Hennes & Mauritz AB (H&M) is a Swedish multinational fast-fashion clothing company headquartered in Stockholm, founded in 1947. Its focus is not only clothing and accesories for men, women, teenagers, and children. But also home decoration and cosmetics is part of this big company .H&M operates in 74 countries with over 5,000 stores.\n",
    "\n",
    "**Objective**\n",
    "\n",
    "Recommender Systems are a wonderful way to create subclasses of information, filtering data about customer behaviour to predict the \"rating\" or \"preference\" a user would give to an item/product. It's an application especially useful for companies with a wide offer and diverse clients, like H&M. It's a powerful and successful way to recommend  other products that the algorithm thinks will suit the users better.\n",
    "\n",
    "In this project we will present some insights about the information and possibly sugestions for the recomendation system of H&M based on their dataframe available in internet.\n",
    "\n",
    "\n",
    "**Material**\n",
    "\n",
    "We found 3 relevant databases in internet: articles, transactions and customers. \n",
    "\n"
   ]
  },
  {
   "cell_type": "markdown",
   "id": "1e97b858",
   "metadata": {},
   "source": [
    "### 1. Articles database:\n",
    "\n",
    "\n",
    "This database contains information about the product stock of H&M shops. Atention: the number of this data are not referred to the transactions, but the units of each article. We will have information about the transactions in a different database."
   ]
  },
  {
   "cell_type": "code",
   "execution_count": 39,
   "id": "b26bf74f",
   "metadata": {},
   "outputs": [],
   "source": [
    "import numpy as np\n",
    "import pandas as pd\n",
    "import matplotlib.pyplot as plt\n",
    "%matplotlib inline\n",
    "import seaborn as sns\n",
    "import statsmodels.api as sm\n",
    "from scipy.stats import boxcox\n",
    "import matplotlib.ticker as mtick\n",
    "\n",
    "from IPython.core.interactiveshell import InteractiveShell\n",
    "InteractiveShell.ast_node_interactivity = \"all\"\n",
    "\n",
    "pd.options.display.max_rows = 100\n"
   ]
  },
  {
   "cell_type": "code",
   "execution_count": 92,
   "id": "98f3d726",
   "metadata": {},
   "outputs": [
    {
     "data": {
      "text/html": [
       "<div>\n",
       "<style scoped>\n",
       "    .dataframe tbody tr th:only-of-type {\n",
       "        vertical-align: middle;\n",
       "    }\n",
       "\n",
       "    .dataframe tbody tr th {\n",
       "        vertical-align: top;\n",
       "    }\n",
       "\n",
       "    .dataframe thead th {\n",
       "        text-align: right;\n",
       "    }\n",
       "</style>\n",
       "<table border=\"1\" class=\"dataframe\">\n",
       "  <thead>\n",
       "    <tr style=\"text-align: right;\">\n",
       "      <th></th>\n",
       "      <th>article_id</th>\n",
       "      <th>product_code</th>\n",
       "      <th>prod_name</th>\n",
       "      <th>product_type_no</th>\n",
       "      <th>product_type_name</th>\n",
       "      <th>product_group_name</th>\n",
       "      <th>graphical_appearance_no</th>\n",
       "      <th>graphical_appearance_name</th>\n",
       "      <th>colour_group_code</th>\n",
       "      <th>colour_group_name</th>\n",
       "      <th>...</th>\n",
       "      <th>department_name</th>\n",
       "      <th>index_code</th>\n",
       "      <th>index_name</th>\n",
       "      <th>index_group_no</th>\n",
       "      <th>index_group_name</th>\n",
       "      <th>section_no</th>\n",
       "      <th>section_name</th>\n",
       "      <th>garment_group_no</th>\n",
       "      <th>garment_group_name</th>\n",
       "      <th>detail_desc</th>\n",
       "    </tr>\n",
       "  </thead>\n",
       "  <tbody>\n",
       "    <tr>\n",
       "      <th>0</th>\n",
       "      <td>108775015</td>\n",
       "      <td>108775</td>\n",
       "      <td>Strap top</td>\n",
       "      <td>253</td>\n",
       "      <td>Vest top</td>\n",
       "      <td>Garment Upper body</td>\n",
       "      <td>1010016</td>\n",
       "      <td>Solid</td>\n",
       "      <td>9</td>\n",
       "      <td>Black</td>\n",
       "      <td>...</td>\n",
       "      <td>Jersey Basic</td>\n",
       "      <td>A</td>\n",
       "      <td>Ladieswear</td>\n",
       "      <td>1</td>\n",
       "      <td>Ladieswear</td>\n",
       "      <td>16</td>\n",
       "      <td>Womens Everyday Basics</td>\n",
       "      <td>1002</td>\n",
       "      <td>Jersey Basic</td>\n",
       "      <td>Jersey top with narrow shoulder straps.</td>\n",
       "    </tr>\n",
       "    <tr>\n",
       "      <th>1</th>\n",
       "      <td>108775044</td>\n",
       "      <td>108775</td>\n",
       "      <td>Strap top</td>\n",
       "      <td>253</td>\n",
       "      <td>Vest top</td>\n",
       "      <td>Garment Upper body</td>\n",
       "      <td>1010016</td>\n",
       "      <td>Solid</td>\n",
       "      <td>10</td>\n",
       "      <td>White</td>\n",
       "      <td>...</td>\n",
       "      <td>Jersey Basic</td>\n",
       "      <td>A</td>\n",
       "      <td>Ladieswear</td>\n",
       "      <td>1</td>\n",
       "      <td>Ladieswear</td>\n",
       "      <td>16</td>\n",
       "      <td>Womens Everyday Basics</td>\n",
       "      <td>1002</td>\n",
       "      <td>Jersey Basic</td>\n",
       "      <td>Jersey top with narrow shoulder straps.</td>\n",
       "    </tr>\n",
       "    <tr>\n",
       "      <th>2</th>\n",
       "      <td>108775051</td>\n",
       "      <td>108775</td>\n",
       "      <td>Strap top (1)</td>\n",
       "      <td>253</td>\n",
       "      <td>Vest top</td>\n",
       "      <td>Garment Upper body</td>\n",
       "      <td>1010017</td>\n",
       "      <td>Stripe</td>\n",
       "      <td>11</td>\n",
       "      <td>Off White</td>\n",
       "      <td>...</td>\n",
       "      <td>Jersey Basic</td>\n",
       "      <td>A</td>\n",
       "      <td>Ladieswear</td>\n",
       "      <td>1</td>\n",
       "      <td>Ladieswear</td>\n",
       "      <td>16</td>\n",
       "      <td>Womens Everyday Basics</td>\n",
       "      <td>1002</td>\n",
       "      <td>Jersey Basic</td>\n",
       "      <td>Jersey top with narrow shoulder straps.</td>\n",
       "    </tr>\n",
       "    <tr>\n",
       "      <th>3</th>\n",
       "      <td>110065001</td>\n",
       "      <td>110065</td>\n",
       "      <td>OP T-shirt (Idro)</td>\n",
       "      <td>306</td>\n",
       "      <td>Bra</td>\n",
       "      <td>Underwear</td>\n",
       "      <td>1010016</td>\n",
       "      <td>Solid</td>\n",
       "      <td>9</td>\n",
       "      <td>Black</td>\n",
       "      <td>...</td>\n",
       "      <td>Clean Lingerie</td>\n",
       "      <td>B</td>\n",
       "      <td>Lingeries/Tights</td>\n",
       "      <td>1</td>\n",
       "      <td>Ladieswear</td>\n",
       "      <td>61</td>\n",
       "      <td>Womens Lingerie</td>\n",
       "      <td>1017</td>\n",
       "      <td>Under-, Nightwear</td>\n",
       "      <td>Microfibre T-shirt bra with underwired, moulde...</td>\n",
       "    </tr>\n",
       "    <tr>\n",
       "      <th>4</th>\n",
       "      <td>110065002</td>\n",
       "      <td>110065</td>\n",
       "      <td>OP T-shirt (Idro)</td>\n",
       "      <td>306</td>\n",
       "      <td>Bra</td>\n",
       "      <td>Underwear</td>\n",
       "      <td>1010016</td>\n",
       "      <td>Solid</td>\n",
       "      <td>10</td>\n",
       "      <td>White</td>\n",
       "      <td>...</td>\n",
       "      <td>Clean Lingerie</td>\n",
       "      <td>B</td>\n",
       "      <td>Lingeries/Tights</td>\n",
       "      <td>1</td>\n",
       "      <td>Ladieswear</td>\n",
       "      <td>61</td>\n",
       "      <td>Womens Lingerie</td>\n",
       "      <td>1017</td>\n",
       "      <td>Under-, Nightwear</td>\n",
       "      <td>Microfibre T-shirt bra with underwired, moulde...</td>\n",
       "    </tr>\n",
       "    <tr>\n",
       "      <th>...</th>\n",
       "      <td>...</td>\n",
       "      <td>...</td>\n",
       "      <td>...</td>\n",
       "      <td>...</td>\n",
       "      <td>...</td>\n",
       "      <td>...</td>\n",
       "      <td>...</td>\n",
       "      <td>...</td>\n",
       "      <td>...</td>\n",
       "      <td>...</td>\n",
       "      <td>...</td>\n",
       "      <td>...</td>\n",
       "      <td>...</td>\n",
       "      <td>...</td>\n",
       "      <td>...</td>\n",
       "      <td>...</td>\n",
       "      <td>...</td>\n",
       "      <td>...</td>\n",
       "      <td>...</td>\n",
       "      <td>...</td>\n",
       "      <td>...</td>\n",
       "    </tr>\n",
       "    <tr>\n",
       "      <th>105537</th>\n",
       "      <td>953450001</td>\n",
       "      <td>953450</td>\n",
       "      <td>5pk regular Placement1</td>\n",
       "      <td>302</td>\n",
       "      <td>Socks</td>\n",
       "      <td>Socks &amp; Tights</td>\n",
       "      <td>1010014</td>\n",
       "      <td>Placement print</td>\n",
       "      <td>9</td>\n",
       "      <td>Black</td>\n",
       "      <td>...</td>\n",
       "      <td>Socks Bin</td>\n",
       "      <td>F</td>\n",
       "      <td>Menswear</td>\n",
       "      <td>3</td>\n",
       "      <td>Menswear</td>\n",
       "      <td>26</td>\n",
       "      <td>Men Underwear</td>\n",
       "      <td>1021</td>\n",
       "      <td>Socks and Tights</td>\n",
       "      <td>Socks in a fine-knit cotton blend with a small...</td>\n",
       "    </tr>\n",
       "    <tr>\n",
       "      <th>105538</th>\n",
       "      <td>953763001</td>\n",
       "      <td>953763</td>\n",
       "      <td>SPORT Malaga tank</td>\n",
       "      <td>253</td>\n",
       "      <td>Vest top</td>\n",
       "      <td>Garment Upper body</td>\n",
       "      <td>1010016</td>\n",
       "      <td>Solid</td>\n",
       "      <td>9</td>\n",
       "      <td>Black</td>\n",
       "      <td>...</td>\n",
       "      <td>Jersey</td>\n",
       "      <td>A</td>\n",
       "      <td>Ladieswear</td>\n",
       "      <td>1</td>\n",
       "      <td>Ladieswear</td>\n",
       "      <td>2</td>\n",
       "      <td>H&amp;M+</td>\n",
       "      <td>1005</td>\n",
       "      <td>Jersey Fancy</td>\n",
       "      <td>Loose-fitting sports vest top in ribbed fast-d...</td>\n",
       "    </tr>\n",
       "    <tr>\n",
       "      <th>105539</th>\n",
       "      <td>956217002</td>\n",
       "      <td>956217</td>\n",
       "      <td>Cartwheel dress</td>\n",
       "      <td>265</td>\n",
       "      <td>Dress</td>\n",
       "      <td>Garment Full body</td>\n",
       "      <td>1010016</td>\n",
       "      <td>Solid</td>\n",
       "      <td>9</td>\n",
       "      <td>Black</td>\n",
       "      <td>...</td>\n",
       "      <td>Jersey</td>\n",
       "      <td>A</td>\n",
       "      <td>Ladieswear</td>\n",
       "      <td>1</td>\n",
       "      <td>Ladieswear</td>\n",
       "      <td>18</td>\n",
       "      <td>Womens Trend</td>\n",
       "      <td>1005</td>\n",
       "      <td>Jersey Fancy</td>\n",
       "      <td>Short, A-line dress in jersey with a round nec...</td>\n",
       "    </tr>\n",
       "    <tr>\n",
       "      <th>105540</th>\n",
       "      <td>957375001</td>\n",
       "      <td>957375</td>\n",
       "      <td>CLAIRE HAIR CLAW</td>\n",
       "      <td>72</td>\n",
       "      <td>Hair clip</td>\n",
       "      <td>Accessories</td>\n",
       "      <td>1010016</td>\n",
       "      <td>Solid</td>\n",
       "      <td>9</td>\n",
       "      <td>Black</td>\n",
       "      <td>...</td>\n",
       "      <td>Small Accessories</td>\n",
       "      <td>D</td>\n",
       "      <td>Divided</td>\n",
       "      <td>2</td>\n",
       "      <td>Divided</td>\n",
       "      <td>52</td>\n",
       "      <td>Divided Accessories</td>\n",
       "      <td>1019</td>\n",
       "      <td>Accessories</td>\n",
       "      <td>Large plastic hair claw.</td>\n",
       "    </tr>\n",
       "    <tr>\n",
       "      <th>105541</th>\n",
       "      <td>959461001</td>\n",
       "      <td>959461</td>\n",
       "      <td>Lounge dress</td>\n",
       "      <td>265</td>\n",
       "      <td>Dress</td>\n",
       "      <td>Garment Full body</td>\n",
       "      <td>1010016</td>\n",
       "      <td>Solid</td>\n",
       "      <td>11</td>\n",
       "      <td>Off White</td>\n",
       "      <td>...</td>\n",
       "      <td>Jersey</td>\n",
       "      <td>A</td>\n",
       "      <td>Ladieswear</td>\n",
       "      <td>1</td>\n",
       "      <td>Ladieswear</td>\n",
       "      <td>18</td>\n",
       "      <td>Womens Trend</td>\n",
       "      <td>1005</td>\n",
       "      <td>Jersey Fancy</td>\n",
       "      <td>Calf-length dress in ribbed jersey made from a...</td>\n",
       "    </tr>\n",
       "  </tbody>\n",
       "</table>\n",
       "<p>105542 rows × 25 columns</p>\n",
       "</div>"
      ],
      "text/plain": [
       "        article_id  product_code               prod_name  product_type_no  \\\n",
       "0        108775015        108775               Strap top              253   \n",
       "1        108775044        108775               Strap top              253   \n",
       "2        108775051        108775           Strap top (1)              253   \n",
       "3        110065001        110065       OP T-shirt (Idro)              306   \n",
       "4        110065002        110065       OP T-shirt (Idro)              306   \n",
       "...            ...           ...                     ...              ...   \n",
       "105537   953450001        953450  5pk regular Placement1              302   \n",
       "105538   953763001        953763       SPORT Malaga tank              253   \n",
       "105539   956217002        956217         Cartwheel dress              265   \n",
       "105540   957375001        957375        CLAIRE HAIR CLAW               72   \n",
       "105541   959461001        959461            Lounge dress              265   \n",
       "\n",
       "       product_type_name  product_group_name  graphical_appearance_no  \\\n",
       "0               Vest top  Garment Upper body                  1010016   \n",
       "1               Vest top  Garment Upper body                  1010016   \n",
       "2               Vest top  Garment Upper body                  1010017   \n",
       "3                    Bra           Underwear                  1010016   \n",
       "4                    Bra           Underwear                  1010016   \n",
       "...                  ...                 ...                      ...   \n",
       "105537             Socks      Socks & Tights                  1010014   \n",
       "105538          Vest top  Garment Upper body                  1010016   \n",
       "105539             Dress   Garment Full body                  1010016   \n",
       "105540         Hair clip         Accessories                  1010016   \n",
       "105541             Dress   Garment Full body                  1010016   \n",
       "\n",
       "       graphical_appearance_name  colour_group_code colour_group_name  ...  \\\n",
       "0                          Solid                  9             Black  ...   \n",
       "1                          Solid                 10             White  ...   \n",
       "2                         Stripe                 11         Off White  ...   \n",
       "3                          Solid                  9             Black  ...   \n",
       "4                          Solid                 10             White  ...   \n",
       "...                          ...                ...               ...  ...   \n",
       "105537           Placement print                  9             Black  ...   \n",
       "105538                     Solid                  9             Black  ...   \n",
       "105539                     Solid                  9             Black  ...   \n",
       "105540                     Solid                  9             Black  ...   \n",
       "105541                     Solid                 11         Off White  ...   \n",
       "\n",
       "          department_name index_code        index_name index_group_no  \\\n",
       "0            Jersey Basic          A        Ladieswear              1   \n",
       "1            Jersey Basic          A        Ladieswear              1   \n",
       "2            Jersey Basic          A        Ladieswear              1   \n",
       "3          Clean Lingerie          B  Lingeries/Tights              1   \n",
       "4          Clean Lingerie          B  Lingeries/Tights              1   \n",
       "...                   ...        ...               ...            ...   \n",
       "105537          Socks Bin          F          Menswear              3   \n",
       "105538             Jersey          A        Ladieswear              1   \n",
       "105539             Jersey          A        Ladieswear              1   \n",
       "105540  Small Accessories          D           Divided              2   \n",
       "105541             Jersey          A        Ladieswear              1   \n",
       "\n",
       "        index_group_name section_no            section_name garment_group_no  \\\n",
       "0             Ladieswear         16  Womens Everyday Basics             1002   \n",
       "1             Ladieswear         16  Womens Everyday Basics             1002   \n",
       "2             Ladieswear         16  Womens Everyday Basics             1002   \n",
       "3             Ladieswear         61         Womens Lingerie             1017   \n",
       "4             Ladieswear         61         Womens Lingerie             1017   \n",
       "...                  ...        ...                     ...              ...   \n",
       "105537          Menswear         26           Men Underwear             1021   \n",
       "105538        Ladieswear          2                    H&M+             1005   \n",
       "105539        Ladieswear         18            Womens Trend             1005   \n",
       "105540           Divided         52     Divided Accessories             1019   \n",
       "105541        Ladieswear         18            Womens Trend             1005   \n",
       "\n",
       "        garment_group_name                                        detail_desc  \n",
       "0             Jersey Basic            Jersey top with narrow shoulder straps.  \n",
       "1             Jersey Basic            Jersey top with narrow shoulder straps.  \n",
       "2             Jersey Basic            Jersey top with narrow shoulder straps.  \n",
       "3        Under-, Nightwear  Microfibre T-shirt bra with underwired, moulde...  \n",
       "4        Under-, Nightwear  Microfibre T-shirt bra with underwired, moulde...  \n",
       "...                    ...                                                ...  \n",
       "105537    Socks and Tights  Socks in a fine-knit cotton blend with a small...  \n",
       "105538        Jersey Fancy  Loose-fitting sports vest top in ribbed fast-d...  \n",
       "105539        Jersey Fancy  Short, A-line dress in jersey with a round nec...  \n",
       "105540         Accessories                           Large plastic hair claw.  \n",
       "105541        Jersey Fancy  Calf-length dress in ribbed jersey made from a...  \n",
       "\n",
       "[105542 rows x 25 columns]"
      ]
     },
     "execution_count": 92,
     "metadata": {},
     "output_type": "execute_result"
    }
   ],
   "source": [
    "articles = pd.read_csv ('articles.csv')\n",
    "articles"
   ]
  },
  {
   "cell_type": "code",
   "execution_count": 93,
   "id": "b95c8222",
   "metadata": {},
   "outputs": [
    {
     "name": "stdout",
     "output_type": "stream",
     "text": [
      "<class 'pandas.core.frame.DataFrame'>\n",
      "RangeIndex: 105542 entries, 0 to 105541\n",
      "Data columns (total 25 columns):\n",
      " #   Column                        Non-Null Count   Dtype \n",
      "---  ------                        --------------   ----- \n",
      " 0   article_id                    105542 non-null  int64 \n",
      " 1   product_code                  105542 non-null  int64 \n",
      " 2   prod_name                     105542 non-null  object\n",
      " 3   product_type_no               105542 non-null  int64 \n",
      " 4   product_type_name             105542 non-null  object\n",
      " 5   product_group_name            105542 non-null  object\n",
      " 6   graphical_appearance_no       105542 non-null  int64 \n",
      " 7   graphical_appearance_name     105542 non-null  object\n",
      " 8   colour_group_code             105542 non-null  int64 \n",
      " 9   colour_group_name             105542 non-null  object\n",
      " 10  perceived_colour_value_id     105542 non-null  int64 \n",
      " 11  perceived_colour_value_name   105542 non-null  object\n",
      " 12  perceived_colour_master_id    105542 non-null  int64 \n",
      " 13  perceived_colour_master_name  105542 non-null  object\n",
      " 14  department_no                 105542 non-null  int64 \n",
      " 15  department_name               105542 non-null  object\n",
      " 16  index_code                    105542 non-null  object\n",
      " 17  index_name                    105542 non-null  object\n",
      " 18  index_group_no                105542 non-null  int64 \n",
      " 19  index_group_name              105542 non-null  object\n",
      " 20  section_no                    105542 non-null  int64 \n",
      " 21  section_name                  105542 non-null  object\n",
      " 22  garment_group_no              105542 non-null  int64 \n",
      " 23  garment_group_name            105542 non-null  object\n",
      " 24  detail_desc                   105126 non-null  object\n",
      "dtypes: int64(11), object(14)\n",
      "memory usage: 20.1+ MB\n"
     ]
    }
   ],
   "source": [
    "articles.info()"
   ]
  },
  {
   "cell_type": "markdown",
   "id": "85ea1b46",
   "metadata": {},
   "source": [
    "#### Key figures:\n",
    "\n",
    "- 105.542 rows in the dataset\n",
    "- 25 features in the dataset\n",
    "- 14 of text columns in the dataset\n",
    "- 11 numeric columns in the dataset\n",
    "    "
   ]
  },
  {
   "cell_type": "markdown",
   "id": "4c7b1f21",
   "metadata": {},
   "source": [
    "Unique indentifier of an article:\n",
    "\n",
    "- article_id (int64) - an unique 9-digit identifier of the article, 105 542 unique values (as the length of the database)\n",
    "\n",
    "5 product related columns:\n",
    "\n",
    "- product_code (int64) - 6-digit product code (the first 6 digits of article_id, 47 224 unique values\n",
    "- prod_name (object) - name of a product, 45 875 unique values\n",
    "- product_type_no (int64) - product type number, 131 unique values\n",
    "- product_type_name (object) - name of a product type, equivalent of product_type_no\n",
    "- product_group_name (object) - name of a product group, in total 19 groups\n",
    "\n",
    "2 columns related to the pattern:\n",
    "\n",
    "- graphical_appearance_no (int64) - code of a pattern, 30 unique values\n",
    "- graphical_appearance_name (object) - name of a pattern, 30 unique values\n",
    "\n",
    "2 columns related to the color:\n",
    "\n",
    "- colour_group_code (int64) - code of a color, 50 unique values\n",
    "- colour_group_name (object) - name of a color, 50 unique values\n",
    "\n",
    "4 columns related to perceived colour (general tone):\n",
    "\n",
    "- perceived_colour_value_id - perceived color id, 8 unique values\n",
    "- perceived_colour_value_name - perceived color name, 8 unique values\n",
    "- perceived_colour_master_id - perceived master color id, 20 unique values\n",
    "- perceived_colour_master_name - perceived master color name, 20 unique values\n",
    "\n",
    "2 columns related to the department:\n",
    "\n",
    "- department_no - department number, 299 unique values\n",
    "- department_name - department name, 299 unique values\n",
    "\n",
    "4 columns related to the index, which is actually a top-level category:\n",
    "\n",
    "- index_code - index code, 10 unique values\n",
    "- index_name - index name, 10 unique values\n",
    "- index_group_no - index group code, 5 unique values\n",
    "- index_group_name - index group code, 5 unique values\n",
    "\n",
    "2 columns related to the section:\n",
    "\n",
    "- section_no - section number, 56 unique values\n",
    "- section_name - section name, 56 unique values\n",
    "\n",
    "2 columns related to the garment group:\n",
    "\n",
    "- garment_group_n - section number, 56 unique values\n",
    "- garment_group_name - section name, 56 unique values\n",
    "\n",
    "1 column with a detailed description of the article:\n",
    "\n",
    "- detail_desc - 43 404 unique values\n"
   ]
  },
  {
   "cell_type": "markdown",
   "id": "0b1a558b",
   "metadata": {},
   "source": [
    "**Checking the missing values**"
   ]
  },
  {
   "cell_type": "markdown",
   "id": "b77f8cef",
   "metadata": {},
   "source": [
    "Only one column - detail desc - has missing values but this is a very small fraction of the dataset - about 0.39% (checking the sum, there are only 416 rows with missing values)."
   ]
  },
  {
   "cell_type": "code",
   "execution_count": 95,
   "id": "b7f92954",
   "metadata": {},
   "outputs": [
    {
     "data": {
      "text/plain": [
       "article_id                      0.000000\n",
       "product_code                    0.000000\n",
       "prod_name                       0.000000\n",
       "product_type_no                 0.000000\n",
       "product_type_name               0.000000\n",
       "product_group_name              0.000000\n",
       "graphical_appearance_no         0.000000\n",
       "graphical_appearance_name       0.000000\n",
       "colour_group_code               0.000000\n",
       "colour_group_name               0.000000\n",
       "perceived_colour_value_id       0.000000\n",
       "perceived_colour_value_name     0.000000\n",
       "perceived_colour_master_id      0.000000\n",
       "perceived_colour_master_name    0.000000\n",
       "department_no                   0.000000\n",
       "department_name                 0.000000\n",
       "index_code                      0.000000\n",
       "index_name                      0.000000\n",
       "index_group_no                  0.000000\n",
       "index_group_name                0.000000\n",
       "section_no                      0.000000\n",
       "section_name                    0.000000\n",
       "garment_group_no                0.000000\n",
       "garment_group_name              0.000000\n",
       "detail_desc                     0.394156\n",
       "dtype: float64"
      ]
     },
     "execution_count": 95,
     "metadata": {},
     "output_type": "execute_result"
    }
   ],
   "source": [
    "articles.isna().sum()/len(articles)*100"
   ]
  },
  {
   "cell_type": "code",
   "execution_count": 96,
   "id": "6e3dcca1",
   "metadata": {},
   "outputs": [
    {
     "data": {
      "text/plain": [
       "article_id                        0\n",
       "product_code                      0\n",
       "prod_name                         0\n",
       "product_type_no                   0\n",
       "product_type_name                 0\n",
       "product_group_name                0\n",
       "graphical_appearance_no           0\n",
       "graphical_appearance_name         0\n",
       "colour_group_code                 0\n",
       "colour_group_name                 0\n",
       "perceived_colour_value_id         0\n",
       "perceived_colour_value_name       0\n",
       "perceived_colour_master_id        0\n",
       "perceived_colour_master_name      0\n",
       "department_no                     0\n",
       "department_name                   0\n",
       "index_code                        0\n",
       "index_name                        0\n",
       "index_group_no                    0\n",
       "index_group_name                  0\n",
       "section_no                        0\n",
       "section_name                      0\n",
       "garment_group_no                  0\n",
       "garment_group_name                0\n",
       "detail_desc                     416\n",
       "dtype: int64"
      ]
     },
     "execution_count": 96,
     "metadata": {},
     "output_type": "execute_result"
    }
   ],
   "source": [
    "articles.isna().sum()"
   ]
  },
  {
   "cell_type": "markdown",
   "id": "fd52e7a0",
   "metadata": {},
   "source": [
    "There are no duplicated rows."
   ]
  },
  {
   "cell_type": "code",
   "execution_count": 106,
   "id": "5c52e4a1",
   "metadata": {},
   "outputs": [
    {
     "data": {
      "text/plain": [
       "0"
      ]
     },
     "execution_count": 106,
     "metadata": {},
     "output_type": "execute_result"
    }
   ],
   "source": [
    "articles.duplicated().sum()"
   ]
  },
  {
   "cell_type": "markdown",
   "id": "79b177fe",
   "metadata": {},
   "source": [
    "We explore what is inside the column \"departent_name\" to figure out which are the department that have more amount of articles. Those are: \"Jersey\", \"Knitwear\" and \"Trouser\""
   ]
  },
  {
   "cell_type": "code",
   "execution_count": 97,
   "id": "1d7eeb92",
   "metadata": {},
   "outputs": [
    {
     "data": {
      "text/plain": [
       "Jersey                             4604\n",
       "Knitwear                           3503\n",
       "Trouser                            2655\n",
       "Blouse                             2362\n",
       "Dress                              2087\n",
       "                                   ... \n",
       "Woven bottoms inactive from S.7       1\n",
       "Jersey inactive from S.6              1\n",
       "EQ Divided Blue                       1\n",
       "Accessories Other                     1\n",
       "Kids Boy License                      1\n",
       "Name: department_name, Length: 250, dtype: int64"
      ]
     },
     "execution_count": 97,
     "metadata": {},
     "output_type": "execute_result"
    }
   ],
   "source": [
    "department = articles['department_name'].value_counts()\n",
    "department"
   ]
  },
  {
   "cell_type": "markdown",
   "id": "de74431c",
   "metadata": {},
   "source": [
    "Here we can see that \"Jersey Fancy\", \"Accessories\" and \"Jersey Basic\" are the most repited values in this column. We can see that two of them coincides with the most repited in the column \"department name\": \"Jersey\""
   ]
  },
  {
   "cell_type": "code",
   "execution_count": 102,
   "id": "53a9e0d3",
   "metadata": {},
   "outputs": [
    {
     "data": {
      "text/plain": [
       "Jersey Fancy                     21445\n",
       "Accessories                      11519\n",
       "Jersey Basic                      8126\n",
       "Knitwear                          7490\n",
       "Under-, Nightwear                 7441\n",
       "Trousers                          6727\n",
       "Blouses                           5838\n",
       "Shoes                             5145\n",
       "Dresses Ladies                    4874\n",
       "Outdoor                           4501\n",
       "Unknown                           3873\n",
       "Trousers Denim                    3100\n",
       "Swimwear                          2787\n",
       "Socks and Tights                  2272\n",
       "Shirts                            2116\n",
       "Woven/Jersey/Knitted mix Baby     1965\n",
       "Shorts                            1559\n",
       "Dresses/Skirts girls              1541\n",
       "Skirts                            1254\n",
       "Special Offers                    1061\n",
       "Dressed                            908\n",
       "Name: garment_group_name, dtype: int64"
      ]
     },
     "execution_count": 102,
     "metadata": {},
     "output_type": "execute_result"
    }
   ],
   "source": [
    "department = articles['garment_group_name'].value_counts()\n",
    "department"
   ]
  },
  {
   "cell_type": "code",
   "execution_count": 98,
   "id": "223856e0",
   "metadata": {},
   "outputs": [],
   "source": [
    "import matplotlib.ticker as mtick\n",
    "\n",
    "def plot_bar(database, col, figsize=(13,5), pct=False, label='articles'):\n",
    "    fig, ax = plt.subplots(figsize=figsize, facecolor='#f6f6f6')\n",
    "    for loc in ['bottom', 'left']:\n",
    "        ax.spines[loc].set_visible(True)\n",
    "        ax.spines[loc].set_linewidth(2)\n",
    "        ax.spines[loc].set_color('black')\n",
    "    ax.spines['right'].set_visible(False)\n",
    "    ax.spines['top'].set_visible(False)\n",
    "    \n",
    "    if pct:\n",
    "        data = database[col].value_counts()\n",
    "        data = data.div(data.sum()).mul(100)\n",
    "        data = data.reset_index()\n",
    "        ax = sns.barplot(data=data, x=col, y='index', color='#2693d7', lw=1.5, ec='black', zorder=2)\n",
    "        ax.set_xlabel('% of ' + label, fontsize=10, weight='bold')\n",
    "        ax.xaxis.set_major_formatter(mtick.PercentFormatter())\n",
    "    else:\n",
    "        data = database[col].value_counts().reset_index()\n",
    "        ax = sns.barplot(data=data, x=col, y='index', color='#2693d7', lw=1.5, ec='black', zorder=2)        \n",
    "        ax.set_xlabel('# of articles' + label)\n",
    "        \n",
    "    ax.grid(zorder=0)\n",
    "    ax.text(0, -0.75, col, color='black', fontsize=10, ha='left', va='bottom', weight='bold', style='italic')\n",
    "    ax.set_ylabel('')\n",
    "        \n",
    "    plt.show();"
   ]
  },
  {
   "cell_type": "markdown",
   "id": "ddc3f9eb",
   "metadata": {},
   "source": [
    "Here we can apreciate that \"Ladieswear\", \"Babies/Children\" and \"Divided\" are the group of articles that are dominant in this dataframe. The smallest amount of articles is in Sport group."
   ]
  },
  {
   "cell_type": "code",
   "execution_count": 101,
   "id": "8e4d812d",
   "metadata": {},
   "outputs": [
    {
     "data": {
      "image/png": "[encoded data removed]",
      "text/plain": [
       "<Figure size 936x360 with 1 Axes>"
      ]
     },
     "metadata": {},
     "output_type": "display_data"
    }
   ],
   "source": [
    "sns.set_style(\"darkgrid\", {\"axes.facecolor\": \".9\"})\n",
    "plot_bar(articles, 'index_group_name', pct=True)"
   ]
  },
  {
   "cell_type": "code",
   "execution_count": 107,
   "id": "507de638",
   "metadata": {},
   "outputs": [
    {
     "data": {
      "text/plain": [
       "Ladieswear       39737\n",
       "Baby/Children    34711\n",
       "Divided          15149\n",
       "Menswear         12553\n",
       "Sport             3392\n",
       "Name: index_group_name, dtype: int64"
      ]
     },
     "execution_count": 107,
     "metadata": {},
     "output_type": "execute_result"
    }
   ],
   "source": [
    "group = articles['index_group_name'].value_counts()\n",
    "group"
   ]
  },
  {
   "cell_type": "markdown",
   "id": "80f5dccd",
   "metadata": {},
   "source": [
    "In this bar plot we can see the index name. In the first position we can see Ladieswear, followed by Divided and Menswear. There are 4 index names dedicated for Children/ Babys, so still we can say that there is a big amount of articles dedicated for this group as we saw in the \"index_group_name\""
   ]
  },
  {
   "cell_type": "code",
   "execution_count": 104,
   "id": "c33b0a11",
   "metadata": {},
   "outputs": [
    {
     "data": {
      "image/png": "[encoded data removed]",
      "text/plain": [
       "<Figure size 936x360 with 1 Axes>"
      ]
     },
     "metadata": {},
     "output_type": "display_data"
    }
   ],
   "source": [
    "\n",
    "plot_bar(articles, 'index_name', pct=True)"
   ]
  },
  {
   "cell_type": "markdown",
   "id": "45fee708",
   "metadata": {},
   "source": [
    "To understand better about the index_name \"Divided\", we filtered only the rows that are in this category. After a research in the H&M website we could confirm that \"Divided\" is the line of clothes made for teenagers."
   ]
  },
  {
   "cell_type": "code",
   "execution_count": 108,
   "id": "93769a14",
   "metadata": {},
   "outputs": [
    {
     "data": {
      "text/html": [
       "<div>\n",
       "<style scoped>\n",
       "    .dataframe tbody tr th:only-of-type {\n",
       "        vertical-align: middle;\n",
       "    }\n",
       "\n",
       "    .dataframe tbody tr th {\n",
       "        vertical-align: top;\n",
       "    }\n",
       "\n",
       "    .dataframe thead th {\n",
       "        text-align: right;\n",
       "    }\n",
       "</style>\n",
       "<table border=\"1\" class=\"dataframe\">\n",
       "  <thead>\n",
       "    <tr style=\"text-align: right;\">\n",
       "      <th></th>\n",
       "      <th>prod_name</th>\n",
       "      <th>product_type_name</th>\n",
       "      <th>detail_desc</th>\n",
       "      <th>index_name</th>\n",
       "      <th>section_name</th>\n",
       "      <th>garment_group_name</th>\n",
       "    </tr>\n",
       "  </thead>\n",
       "  <tbody>\n",
       "    <tr>\n",
       "      <th>78</th>\n",
       "      <td>Sigge sneaker sock 5p</td>\n",
       "      <td>Socks</td>\n",
       "      <td>Fine-knit trainer socks in various colours.</td>\n",
       "      <td>Divided</td>\n",
       "      <td>Divided Basics</td>\n",
       "      <td>Under-, Nightwear</td>\n",
       "    </tr>\n",
       "    <tr>\n",
       "      <th>124</th>\n",
       "      <td>Eva chelsea boot</td>\n",
       "      <td>Boots</td>\n",
       "      <td>Chelsea boots with elasticated gores in the si...</td>\n",
       "      <td>Divided</td>\n",
       "      <td>Divided Accessories</td>\n",
       "      <td>Shoes</td>\n",
       "    </tr>\n",
       "    <tr>\n",
       "      <th>125</th>\n",
       "      <td>Jenny 5-pack</td>\n",
       "      <td>Socks</td>\n",
       "      <td>Fine-knit socks.</td>\n",
       "      <td>Divided</td>\n",
       "      <td>Divided Basics</td>\n",
       "      <td>Under-, Nightwear</td>\n",
       "    </tr>\n",
       "    <tr>\n",
       "      <th>149</th>\n",
       "      <td>Lena over knee.</td>\n",
       "      <td>Socks</td>\n",
       "      <td>Fine-knit over-the-knee socks.</td>\n",
       "      <td>Divided</td>\n",
       "      <td>Divided Basics</td>\n",
       "      <td>Under-, Nightwear</td>\n",
       "    </tr>\n",
       "    <tr>\n",
       "      <th>175</th>\n",
       "      <td>Tina leggings</td>\n",
       "      <td>Leggings/Tights</td>\n",
       "      <td>Leggings in extra sturdy jersey with an elasti...</td>\n",
       "      <td>Divided</td>\n",
       "      <td>Divided Basics</td>\n",
       "      <td>Jersey Basic</td>\n",
       "    </tr>\n",
       "    <tr>\n",
       "      <th>176</th>\n",
       "      <td>Heavy jsy long leg</td>\n",
       "      <td>Leggings/Tights</td>\n",
       "      <td>Leggings in extra sturdy jersey with an elasti...</td>\n",
       "      <td>Divided</td>\n",
       "      <td>Divided Basics</td>\n",
       "      <td>Jersey Basic</td>\n",
       "    </tr>\n",
       "    <tr>\n",
       "      <th>186</th>\n",
       "      <td>Jodi skirt</td>\n",
       "      <td>Skirt</td>\n",
       "      <td>Short, bell-shaped skirt in stretch jersey wit...</td>\n",
       "      <td>Divided</td>\n",
       "      <td>Divided Basics</td>\n",
       "      <td>Jersey Basic</td>\n",
       "    </tr>\n",
       "    <tr>\n",
       "      <th>187</th>\n",
       "      <td>Long Leg Leggings</td>\n",
       "      <td>Leggings/Tights</td>\n",
       "      <td>Leggings in stretch jersey with an elasticated...</td>\n",
       "      <td>Divided</td>\n",
       "      <td>Divided Basics</td>\n",
       "      <td>Jersey Basic</td>\n",
       "    </tr>\n",
       "    <tr>\n",
       "      <th>189</th>\n",
       "      <td>Raven skirt</td>\n",
       "      <td>Skirt</td>\n",
       "      <td>Short jersey skirt with an elasticated waist.</td>\n",
       "      <td>Divided</td>\n",
       "      <td>Divided Basics</td>\n",
       "      <td>Jersey Basic</td>\n",
       "    </tr>\n",
       "    <tr>\n",
       "      <th>193</th>\n",
       "      <td>Carolina sweater (1)</td>\n",
       "      <td>Sweater</td>\n",
       "      <td>Long-sleeved top in sweatshirt fabric with rib...</td>\n",
       "      <td>Divided</td>\n",
       "      <td>Divided Basics</td>\n",
       "      <td>Jersey Basic</td>\n",
       "    </tr>\n",
       "    <tr>\n",
       "      <th>204</th>\n",
       "      <td>Knit dress</td>\n",
       "      <td>Dress</td>\n",
       "      <td>Short, fine-knit dress with a hood, waterfall ...</td>\n",
       "      <td>Divided</td>\n",
       "      <td>Divided Selected</td>\n",
       "      <td>Knitwear</td>\n",
       "    </tr>\n",
       "    <tr>\n",
       "      <th>239</th>\n",
       "      <td>Linni tee (1)</td>\n",
       "      <td>T-shirt</td>\n",
       "      <td>Short-sleeved top in jersey with sewn-in turn-...</td>\n",
       "      <td>Divided</td>\n",
       "      <td>Divided Basics</td>\n",
       "      <td>Jersey Basic</td>\n",
       "    </tr>\n",
       "  </tbody>\n",
       "</table>\n",
       "</div>"
      ],
      "text/plain": [
       "                 prod_name product_type_name  \\\n",
       "78   Sigge sneaker sock 5p             Socks   \n",
       "124       Eva chelsea boot             Boots   \n",
       "125           Jenny 5-pack             Socks   \n",
       "149        Lena over knee.             Socks   \n",
       "175          Tina leggings   Leggings/Tights   \n",
       "176     Heavy jsy long leg   Leggings/Tights   \n",
       "186             Jodi skirt             Skirt   \n",
       "187      Long Leg Leggings   Leggings/Tights   \n",
       "189            Raven skirt             Skirt   \n",
       "193   Carolina sweater (1)           Sweater   \n",
       "204             Knit dress             Dress   \n",
       "239          Linni tee (1)           T-shirt   \n",
       "\n",
       "                                           detail_desc index_name  \\\n",
       "78         Fine-knit trainer socks in various colours.    Divided   \n",
       "124  Chelsea boots with elasticated gores in the si...    Divided   \n",
       "125                                   Fine-knit socks.    Divided   \n",
       "149                     Fine-knit over-the-knee socks.    Divided   \n",
       "175  Leggings in extra sturdy jersey with an elasti...    Divided   \n",
       "176  Leggings in extra sturdy jersey with an elasti...    Divided   \n",
       "186  Short, bell-shaped skirt in stretch jersey wit...    Divided   \n",
       "187  Leggings in stretch jersey with an elasticated...    Divided   \n",
       "189      Short jersey skirt with an elasticated waist.    Divided   \n",
       "193  Long-sleeved top in sweatshirt fabric with rib...    Divided   \n",
       "204  Short, fine-knit dress with a hood, waterfall ...    Divided   \n",
       "239  Short-sleeved top in jersey with sewn-in turn-...    Divided   \n",
       "\n",
       "            section_name garment_group_name  \n",
       "78        Divided Basics  Under-, Nightwear  \n",
       "124  Divided Accessories              Shoes  \n",
       "125       Divided Basics  Under-, Nightwear  \n",
       "149       Divided Basics  Under-, Nightwear  \n",
       "175       Divided Basics       Jersey Basic  \n",
       "176       Divided Basics       Jersey Basic  \n",
       "186       Divided Basics       Jersey Basic  \n",
       "187       Divided Basics       Jersey Basic  \n",
       "189       Divided Basics       Jersey Basic  \n",
       "193       Divided Basics       Jersey Basic  \n",
       "204     Divided Selected           Knitwear  \n",
       "239       Divided Basics       Jersey Basic  "
      ]
     },
     "execution_count": 108,
     "metadata": {},
     "output_type": "execute_result"
    }
   ],
   "source": [
    "divided = articles[articles['index_name']=='Divided']\n",
    "divided[['prod_name','product_type_name','detail_desc','index_name','section_name','garment_group_name']].drop_duplicates().head(12)"
   ]
  },
  {
   "cell_type": "markdown",
   "id": "f6edc224",
   "metadata": {},
   "source": [
    "We see now also that index is a sub-category of index_group. We can create now a multi-index fram with groupings to see the counts:"
   ]
  },
  {
   "cell_type": "code",
   "execution_count": 113,
   "id": "dacdeebb",
   "metadata": {},
   "outputs": [
    {
     "data": {
      "text/plain": [
       "index_group_name  index_name                    \n",
       "Baby/Children     Baby Sizes 50-98                   8875\n",
       "                  Children Accessories, Swimwear     4615\n",
       "                  Children Sizes 134-170             9214\n",
       "                  Children Sizes 92-140             12007\n",
       "Divided           Divided                           15149\n",
       "Ladieswear        Ladies Accessories                 6961\n",
       "                  Ladieswear                        26001\n",
       "                  Lingeries/Tights                   6775\n",
       "Menswear          Menswear                          12553\n",
       "Sport             Sport                              3392\n",
       "dtype: int64"
      ]
     },
     "execution_count": 113,
     "metadata": {},
     "output_type": "execute_result"
    }
   ],
   "source": [
    "articles.groupby(['index_group_name', 'index_name']).size()"
   ]
  },
  {
   "cell_type": "markdown",
   "id": "a4555084",
   "metadata": {},
   "source": [
    "Even finer category is product_group_name. Let's see what is it's structure and articles counts."
   ]
  },
  {
   "cell_type": "code",
   "execution_count": 109,
   "id": "641c2ee1",
   "metadata": {},
   "outputs": [
    {
     "data": {
      "image/png": "[encoded data removed]",
      "text/plain": [
       "<Figure size 936x360 with 1 Axes>"
      ]
     },
     "metadata": {},
     "output_type": "display_data"
    }
   ],
   "source": [
    "plot_bar(articles, 'product_group_name', pct=True)"
   ]
  },
  {
   "cell_type": "code",
   "execution_count": 117,
   "id": "6212feeb",
   "metadata": {},
   "outputs": [],
   "source": [
    "#rever isso aqui:"
   ]
  },
  {
   "cell_type": "markdown",
   "id": "08185a7e",
   "metadata": {},
   "source": [
    "The barchart above shows that most of articles lays in only few groups. Let's see the cumulative sum."
   ]
  },
  {
   "cell_type": "code",
   "execution_count": 116,
   "id": "2c2c22fc",
   "metadata": {},
   "outputs": [
    {
     "data": {
      "text/plain": [
       "Garment Upper body       40.496674\n",
       "Garment Lower body       18.771674\n",
       "Garment Full body        12.594038\n",
       "Accessories              10.572095\n",
       "Underwear                 5.201721\n",
       "Shoes                     5.005590\n",
       "Swimwear                  2.962802\n",
       "Socks & Tights            2.313771\n",
       "Nightwear                 1.799284\n",
       "Unknown                   0.114646\n",
       "Underwear/nightwear       0.051164\n",
       "Cosmetic                  0.046427\n",
       "Bags                      0.023687\n",
       "Items                     0.016107\n",
       "Furniture                 0.012317\n",
       "Garment and Shoe care     0.008527\n",
       "Stationery                0.004737\n",
       "Interior textile          0.002842\n",
       "Fun                       0.001895\n",
       "Name: product_group_name, dtype: float64"
      ]
     },
     "execution_count": 116,
     "metadata": {},
     "output_type": "execute_result"
    }
   ],
   "source": [
    "data = articles['product_group_name'].value_counts()\n",
    "data = data.div(data.sum()).mul(100)\n",
    "data"
   ]
  },
  {
   "cell_type": "markdown",
   "id": "e6332d79",
   "metadata": {},
   "source": [
    "In this barplot we can see which are the colors that are more predominant in the articles. The black colour is significantly more domimant than the resto of the colors. "
   ]
  },
  {
   "cell_type": "code",
   "execution_count": 110,
   "id": "159f08a7",
   "metadata": {},
   "outputs": [
    {
     "data": {
      "image/png": "[encoded data removed]",
      "text/plain": [
       "<Figure size 1080x864 with 1 Axes>"
      ]
     },
     "metadata": {},
     "output_type": "display_data"
    }
   ],
   "source": [
    "plot_bar(articles, 'colour_group_name', figsize=(15,12), pct=True)"
   ]
  },
  {
   "cell_type": "markdown",
   "id": "24a65ef6",
   "metadata": {},
   "source": [
    "We thought it was interesting to show this barplot of the perception of the colors to see which are the type of colours that are more present in the articles."
   ]
  },
  {
   "cell_type": "code",
   "execution_count": 111,
   "id": "30ac8916",
   "metadata": {},
   "outputs": [
    {
     "data": {
      "image/png": "[encoded data removed]",
      "text/plain": [
       "<Figure size 936x360 with 1 Axes>"
      ]
     },
     "metadata": {},
     "output_type": "display_data"
    }
   ],
   "source": [
    "plot_bar(articles, 'perceived_colour_value_name', pct=True)"
   ]
  },
  {
   "cell_type": "markdown",
   "id": "74f050db",
   "metadata": {},
   "source": [
    "### 2. Customer database:\n",
    "\n",
    "\n",
    "Here we find some information about the customers of H&M. This kind of data allows the company to tune their recomender system. This data contains information which can be treated as 'static' or slowly-changing. Usually the companies collect features like sex, age, address, etc. However, in this dataframe we will not find information about the gender of the customers, as we see below:"
   ]
  },
  {
   "cell_type": "code",
   "execution_count": 3,
   "id": "24adb9d5",
   "metadata": {},
   "outputs": [
    {
     "data": {
      "text/html": [
       "<div>\n",
       "<style scoped>\n",
       "    .dataframe tbody tr th:only-of-type {\n",
       "        vertical-align: middle;\n",
       "    }\n",
       "\n",
       "    .dataframe tbody tr th {\n",
       "        vertical-align: top;\n",
       "    }\n",
       "\n",
       "    .dataframe thead th {\n",
       "        text-align: right;\n",
       "    }\n",
       "</style>\n",
       "<table border=\"1\" class=\"dataframe\">\n",
       "  <thead>\n",
       "    <tr style=\"text-align: right;\">\n",
       "      <th></th>\n",
       "      <th>customer_id</th>\n",
       "      <th>FN</th>\n",
       "      <th>Active</th>\n",
       "      <th>club_member_status</th>\n",
       "      <th>fashion_news_frequency</th>\n",
       "      <th>age</th>\n",
       "      <th>postal_code</th>\n",
       "    </tr>\n",
       "  </thead>\n",
       "  <tbody>\n",
       "    <tr>\n",
       "      <th>0</th>\n",
       "      <td>00000dbacae5abe5e23885899a1fa44253a17956c6d1c3...</td>\n",
       "      <td>NaN</td>\n",
       "      <td>NaN</td>\n",
       "      <td>ACTIVE</td>\n",
       "      <td>NONE</td>\n",
       "      <td>49.0</td>\n",
       "      <td>52043ee2162cf5aa7ee79974281641c6f11a68d276429a...</td>\n",
       "    </tr>\n",
       "    <tr>\n",
       "      <th>1</th>\n",
       "      <td>0000423b00ade91418cceaf3b26c6af3dd342b51fd051e...</td>\n",
       "      <td>NaN</td>\n",
       "      <td>NaN</td>\n",
       "      <td>ACTIVE</td>\n",
       "      <td>NONE</td>\n",
       "      <td>25.0</td>\n",
       "      <td>2973abc54daa8a5f8ccfe9362140c63247c5eee03f1d93...</td>\n",
       "    </tr>\n",
       "    <tr>\n",
       "      <th>2</th>\n",
       "      <td>000058a12d5b43e67d225668fa1f8d618c13dc232df0ca...</td>\n",
       "      <td>NaN</td>\n",
       "      <td>NaN</td>\n",
       "      <td>ACTIVE</td>\n",
       "      <td>NONE</td>\n",
       "      <td>24.0</td>\n",
       "      <td>64f17e6a330a85798e4998f62d0930d14db8db1c054af6...</td>\n",
       "    </tr>\n",
       "    <tr>\n",
       "      <th>3</th>\n",
       "      <td>00005ca1c9ed5f5146b52ac8639a40ca9d57aeff4d1bd2...</td>\n",
       "      <td>NaN</td>\n",
       "      <td>NaN</td>\n",
       "      <td>ACTIVE</td>\n",
       "      <td>NONE</td>\n",
       "      <td>54.0</td>\n",
       "      <td>5d36574f52495e81f019b680c843c443bd343d5ca5b1c2...</td>\n",
       "    </tr>\n",
       "    <tr>\n",
       "      <th>4</th>\n",
       "      <td>00006413d8573cd20ed7128e53b7b13819fe5cfc2d801f...</td>\n",
       "      <td>1.0</td>\n",
       "      <td>1.0</td>\n",
       "      <td>ACTIVE</td>\n",
       "      <td>Regularly</td>\n",
       "      <td>52.0</td>\n",
       "      <td>25fa5ddee9aac01b35208d01736e57942317d756b32ddd...</td>\n",
       "    </tr>\n",
       "    <tr>\n",
       "      <th>...</th>\n",
       "      <td>...</td>\n",
       "      <td>...</td>\n",
       "      <td>...</td>\n",
       "      <td>...</td>\n",
       "      <td>...</td>\n",
       "      <td>...</td>\n",
       "      <td>...</td>\n",
       "    </tr>\n",
       "    <tr>\n",
       "      <th>1371975</th>\n",
       "      <td>ffffbbf78b6eaac697a8a5dfbfd2bfa8113ee5b403e474...</td>\n",
       "      <td>NaN</td>\n",
       "      <td>NaN</td>\n",
       "      <td>ACTIVE</td>\n",
       "      <td>NONE</td>\n",
       "      <td>24.0</td>\n",
       "      <td>7aa399f7e669990daba2d92c577b52237380662f36480b...</td>\n",
       "    </tr>\n",
       "    <tr>\n",
       "      <th>1371976</th>\n",
       "      <td>ffffcd5046a6143d29a04fb8c424ce494a76e5cdf4fab5...</td>\n",
       "      <td>NaN</td>\n",
       "      <td>NaN</td>\n",
       "      <td>ACTIVE</td>\n",
       "      <td>NONE</td>\n",
       "      <td>21.0</td>\n",
       "      <td>3f47f1279beb72215f4de557d950e0bfa73789d24acb5e...</td>\n",
       "    </tr>\n",
       "    <tr>\n",
       "      <th>1371977</th>\n",
       "      <td>ffffcf35913a0bee60e8741cb2b4e78b8a98ee5ff2e6a1...</td>\n",
       "      <td>1.0</td>\n",
       "      <td>1.0</td>\n",
       "      <td>ACTIVE</td>\n",
       "      <td>Regularly</td>\n",
       "      <td>21.0</td>\n",
       "      <td>4563fc79215672cd6a863f2b4bf56b8f898f2d96ed590e...</td>\n",
       "    </tr>\n",
       "    <tr>\n",
       "      <th>1371978</th>\n",
       "      <td>ffffd7744cebcf3aca44ae7049d2a94b87074c3d4ffe38...</td>\n",
       "      <td>1.0</td>\n",
       "      <td>1.0</td>\n",
       "      <td>ACTIVE</td>\n",
       "      <td>Regularly</td>\n",
       "      <td>18.0</td>\n",
       "      <td>8892c18e9bc3dca6aa4000cb8094fc4b51ee8db2ed14d7...</td>\n",
       "    </tr>\n",
       "    <tr>\n",
       "      <th>1371979</th>\n",
       "      <td>ffffd9ac14e89946416d80e791d064701994755c3ab686...</td>\n",
       "      <td>NaN</td>\n",
       "      <td>NaN</td>\n",
       "      <td>PRE-CREATE</td>\n",
       "      <td>NONE</td>\n",
       "      <td>65.0</td>\n",
       "      <td>0a1a03306fb2f62164c2a439b38c0caa64b40deaae8687...</td>\n",
       "    </tr>\n",
       "  </tbody>\n",
       "</table>\n",
       "<p>1371980 rows × 7 columns</p>\n",
       "</div>"
      ],
      "text/plain": [
       "                                               customer_id   FN  Active  \\\n",
       "0        00000dbacae5abe5e23885899a1fa44253a17956c6d1c3...  NaN     NaN   \n",
       "1        0000423b00ade91418cceaf3b26c6af3dd342b51fd051e...  NaN     NaN   \n",
       "2        000058a12d5b43e67d225668fa1f8d618c13dc232df0ca...  NaN     NaN   \n",
       "3        00005ca1c9ed5f5146b52ac8639a40ca9d57aeff4d1bd2...  NaN     NaN   \n",
       "4        00006413d8573cd20ed7128e53b7b13819fe5cfc2d801f...  1.0     1.0   \n",
       "...                                                    ...  ...     ...   \n",
       "1371975  ffffbbf78b6eaac697a8a5dfbfd2bfa8113ee5b403e474...  NaN     NaN   \n",
       "1371976  ffffcd5046a6143d29a04fb8c424ce494a76e5cdf4fab5...  NaN     NaN   \n",
       "1371977  ffffcf35913a0bee60e8741cb2b4e78b8a98ee5ff2e6a1...  1.0     1.0   \n",
       "1371978  ffffd7744cebcf3aca44ae7049d2a94b87074c3d4ffe38...  1.0     1.0   \n",
       "1371979  ffffd9ac14e89946416d80e791d064701994755c3ab686...  NaN     NaN   \n",
       "\n",
       "        club_member_status fashion_news_frequency   age  \\\n",
       "0                   ACTIVE                   NONE  49.0   \n",
       "1                   ACTIVE                   NONE  25.0   \n",
       "2                   ACTIVE                   NONE  24.0   \n",
       "3                   ACTIVE                   NONE  54.0   \n",
       "4                   ACTIVE              Regularly  52.0   \n",
       "...                    ...                    ...   ...   \n",
       "1371975             ACTIVE                   NONE  24.0   \n",
       "1371976             ACTIVE                   NONE  21.0   \n",
       "1371977             ACTIVE              Regularly  21.0   \n",
       "1371978             ACTIVE              Regularly  18.0   \n",
       "1371979         PRE-CREATE                   NONE  65.0   \n",
       "\n",
       "                                               postal_code  \n",
       "0        52043ee2162cf5aa7ee79974281641c6f11a68d276429a...  \n",
       "1        2973abc54daa8a5f8ccfe9362140c63247c5eee03f1d93...  \n",
       "2        64f17e6a330a85798e4998f62d0930d14db8db1c054af6...  \n",
       "3        5d36574f52495e81f019b680c843c443bd343d5ca5b1c2...  \n",
       "4        25fa5ddee9aac01b35208d01736e57942317d756b32ddd...  \n",
       "...                                                    ...  \n",
       "1371975  7aa399f7e669990daba2d92c577b52237380662f36480b...  \n",
       "1371976  3f47f1279beb72215f4de557d950e0bfa73789d24acb5e...  \n",
       "1371977  4563fc79215672cd6a863f2b4bf56b8f898f2d96ed590e...  \n",
       "1371978  8892c18e9bc3dca6aa4000cb8094fc4b51ee8db2ed14d7...  \n",
       "1371979  0a1a03306fb2f62164c2a439b38c0caa64b40deaae8687...  \n",
       "\n",
       "[1371980 rows x 7 columns]"
      ]
     },
     "execution_count": 3,
     "metadata": {},
     "output_type": "execute_result"
    }
   ],
   "source": [
    "customers = pd.read_csv ('customers.csv')\n",
    "customers"
   ]
  },
  {
   "cell_type": "markdown",
   "id": "34bac5d9",
   "metadata": {},
   "source": [
    "#### Key figures:\n",
    "\n",
    "- 1.371.980 rows in the dataset\n",
    "- 7 features in the dataset\n",
    "- 4 of text columns in the dataset\n",
    "- 3 numeric columns in the dataset\n",
    "    "
   ]
  },
  {
   "cell_type": "markdown",
   "id": "fcf1dd71",
   "metadata": {},
   "source": [
    "Unique indentifier of a customer:\n",
    "\n",
    "- customer_id - an unique identifier of the customer\n",
    "\n",
    "6 customer related columns:\n",
    "\n",
    "- FN - binary feature (1 or NaN)\n",
    "- Active - binary feature (1 or NaN)\n",
    "- club_member_status - status in a club, 3 unique values\n",
    "- fashion_news_frequency - frequency of sending communication to the customer, 4 unique values\n",
    "- age - age of the customer\n",
    "- postal_code - postal code (anonimized), 352 899 unique values"
   ]
  },
  {
   "cell_type": "markdown",
   "id": "5d06ad78",
   "metadata": {},
   "source": [
    "Only customer id and postal code are completely filled. Age, fashion news frequency have around 1% misssing data, FN has 65% missing and Active has 66% missing data."
   ]
  },
  {
   "cell_type": "code",
   "execution_count": 33,
   "id": "33c9c643",
   "metadata": {},
   "outputs": [],
   "source": [
    "def missing_data(customer):\n",
    "    total = customer.isnull().sum().sort_values(ascending = False)\n",
    "    percent = (customer.isnull().sum()/customer.isnull().count()*100).sort_values(ascending = False)\n",
    "    return pd.concat([total, percent], axis=1, keys=['Total', 'Percent'])"
   ]
  },
  {
   "cell_type": "code",
   "execution_count": 34,
   "id": "8e055b5f",
   "metadata": {},
   "outputs": [
    {
     "data": {
      "text/html": [
       "<div>\n",
       "<style scoped>\n",
       "    .dataframe tbody tr th:only-of-type {\n",
       "        vertical-align: middle;\n",
       "    }\n",
       "\n",
       "    .dataframe tbody tr th {\n",
       "        vertical-align: top;\n",
       "    }\n",
       "\n",
       "    .dataframe thead th {\n",
       "        text-align: right;\n",
       "    }\n",
       "</style>\n",
       "<table border=\"1\" class=\"dataframe\">\n",
       "  <thead>\n",
       "    <tr style=\"text-align: right;\">\n",
       "      <th></th>\n",
       "      <th>Total</th>\n",
       "      <th>Percent</th>\n",
       "    </tr>\n",
       "  </thead>\n",
       "  <tbody>\n",
       "    <tr>\n",
       "      <th>fashion_news_frequency</th>\n",
       "      <td>16009</td>\n",
       "      <td>1.166854</td>\n",
       "    </tr>\n",
       "    <tr>\n",
       "      <th>age</th>\n",
       "      <td>15861</td>\n",
       "      <td>1.156066</td>\n",
       "    </tr>\n",
       "    <tr>\n",
       "      <th>club_member_status</th>\n",
       "      <td>6062</td>\n",
       "      <td>0.441843</td>\n",
       "    </tr>\n",
       "    <tr>\n",
       "      <th>customer_id</th>\n",
       "      <td>0</td>\n",
       "      <td>0.000000</td>\n",
       "    </tr>\n",
       "    <tr>\n",
       "      <th>FN</th>\n",
       "      <td>0</td>\n",
       "      <td>0.000000</td>\n",
       "    </tr>\n",
       "    <tr>\n",
       "      <th>Active</th>\n",
       "      <td>0</td>\n",
       "      <td>0.000000</td>\n",
       "    </tr>\n",
       "  </tbody>\n",
       "</table>\n",
       "</div>"
      ],
      "text/plain": [
       "                        Total   Percent\n",
       "fashion_news_frequency  16009  1.166854\n",
       "age                     15861  1.156066\n",
       "club_member_status       6062  0.441843\n",
       "customer_id                 0  0.000000\n",
       "FN                          0  0.000000\n",
       "Active                      0  0.000000"
      ]
     },
     "execution_count": 34,
     "metadata": {},
     "output_type": "execute_result"
    }
   ],
   "source": [
    "missing_data(customers)"
   ]
  },
  {
   "cell_type": "markdown",
   "id": "2e535f98",
   "metadata": {},
   "source": [
    "The column \"Postal code\" is not in clear, it is coded, same as customer id. Therefore, we will remove this column, as we will not use it for our analyses.\n",
    "\n",
    "\n"
   ]
  },
  {
   "cell_type": "code",
   "execution_count": 14,
   "id": "ff34b4cc",
   "metadata": {},
   "outputs": [],
   "source": [
    "def drop_columns(customers):\n",
    "    customers.drop(columns=[\"postal_code\"], inplace=True)\n",
    "    return customers"
   ]
  },
  {
   "cell_type": "code",
   "execution_count": 15,
   "id": "1ee50c04",
   "metadata": {
    "scrolled": true
   },
   "outputs": [
    {
     "data": {
      "text/html": [
       "<div>\n",
       "<style scoped>\n",
       "    .dataframe tbody tr th:only-of-type {\n",
       "        vertical-align: middle;\n",
       "    }\n",
       "\n",
       "    .dataframe tbody tr th {\n",
       "        vertical-align: top;\n",
       "    }\n",
       "\n",
       "    .dataframe thead th {\n",
       "        text-align: right;\n",
       "    }\n",
       "</style>\n",
       "<table border=\"1\" class=\"dataframe\">\n",
       "  <thead>\n",
       "    <tr style=\"text-align: right;\">\n",
       "      <th></th>\n",
       "      <th>customer_id</th>\n",
       "      <th>FN</th>\n",
       "      <th>Active</th>\n",
       "      <th>club_member_status</th>\n",
       "      <th>fashion_news_frequency</th>\n",
       "      <th>age</th>\n",
       "    </tr>\n",
       "  </thead>\n",
       "  <tbody>\n",
       "    <tr>\n",
       "      <th>0</th>\n",
       "      <td>00000dbacae5abe5e23885899a1fa44253a17956c6d1c3...</td>\n",
       "      <td>0.0</td>\n",
       "      <td>0.0</td>\n",
       "      <td>ACTIVE</td>\n",
       "      <td>NONE</td>\n",
       "      <td>49.0</td>\n",
       "    </tr>\n",
       "    <tr>\n",
       "      <th>1</th>\n",
       "      <td>0000423b00ade91418cceaf3b26c6af3dd342b51fd051e...</td>\n",
       "      <td>0.0</td>\n",
       "      <td>0.0</td>\n",
       "      <td>ACTIVE</td>\n",
       "      <td>NONE</td>\n",
       "      <td>25.0</td>\n",
       "    </tr>\n",
       "    <tr>\n",
       "      <th>2</th>\n",
       "      <td>000058a12d5b43e67d225668fa1f8d618c13dc232df0ca...</td>\n",
       "      <td>0.0</td>\n",
       "      <td>0.0</td>\n",
       "      <td>ACTIVE</td>\n",
       "      <td>NONE</td>\n",
       "      <td>24.0</td>\n",
       "    </tr>\n",
       "    <tr>\n",
       "      <th>3</th>\n",
       "      <td>00005ca1c9ed5f5146b52ac8639a40ca9d57aeff4d1bd2...</td>\n",
       "      <td>0.0</td>\n",
       "      <td>0.0</td>\n",
       "      <td>ACTIVE</td>\n",
       "      <td>NONE</td>\n",
       "      <td>54.0</td>\n",
       "    </tr>\n",
       "    <tr>\n",
       "      <th>4</th>\n",
       "      <td>00006413d8573cd20ed7128e53b7b13819fe5cfc2d801f...</td>\n",
       "      <td>1.0</td>\n",
       "      <td>1.0</td>\n",
       "      <td>ACTIVE</td>\n",
       "      <td>Regularly</td>\n",
       "      <td>52.0</td>\n",
       "    </tr>\n",
       "    <tr>\n",
       "      <th>...</th>\n",
       "      <td>...</td>\n",
       "      <td>...</td>\n",
       "      <td>...</td>\n",
       "      <td>...</td>\n",
       "      <td>...</td>\n",
       "      <td>...</td>\n",
       "    </tr>\n",
       "    <tr>\n",
       "      <th>1371975</th>\n",
       "      <td>ffffbbf78b6eaac697a8a5dfbfd2bfa8113ee5b403e474...</td>\n",
       "      <td>0.0</td>\n",
       "      <td>0.0</td>\n",
       "      <td>ACTIVE</td>\n",
       "      <td>NONE</td>\n",
       "      <td>24.0</td>\n",
       "    </tr>\n",
       "    <tr>\n",
       "      <th>1371976</th>\n",
       "      <td>ffffcd5046a6143d29a04fb8c424ce494a76e5cdf4fab5...</td>\n",
       "      <td>0.0</td>\n",
       "      <td>0.0</td>\n",
       "      <td>ACTIVE</td>\n",
       "      <td>NONE</td>\n",
       "      <td>21.0</td>\n",
       "    </tr>\n",
       "    <tr>\n",
       "      <th>1371977</th>\n",
       "      <td>ffffcf35913a0bee60e8741cb2b4e78b8a98ee5ff2e6a1...</td>\n",
       "      <td>1.0</td>\n",
       "      <td>1.0</td>\n",
       "      <td>ACTIVE</td>\n",
       "      <td>Regularly</td>\n",
       "      <td>21.0</td>\n",
       "    </tr>\n",
       "    <tr>\n",
       "      <th>1371978</th>\n",
       "      <td>ffffd7744cebcf3aca44ae7049d2a94b87074c3d4ffe38...</td>\n",
       "      <td>1.0</td>\n",
       "      <td>1.0</td>\n",
       "      <td>ACTIVE</td>\n",
       "      <td>Regularly</td>\n",
       "      <td>18.0</td>\n",
       "    </tr>\n",
       "    <tr>\n",
       "      <th>1371979</th>\n",
       "      <td>ffffd9ac14e89946416d80e791d064701994755c3ab686...</td>\n",
       "      <td>0.0</td>\n",
       "      <td>0.0</td>\n",
       "      <td>PRE-CREATE</td>\n",
       "      <td>NONE</td>\n",
       "      <td>65.0</td>\n",
       "    </tr>\n",
       "  </tbody>\n",
       "</table>\n",
       "<p>1371980 rows × 6 columns</p>\n",
       "</div>"
      ],
      "text/plain": [
       "                                               customer_id   FN  Active  \\\n",
       "0        00000dbacae5abe5e23885899a1fa44253a17956c6d1c3...  0.0     0.0   \n",
       "1        0000423b00ade91418cceaf3b26c6af3dd342b51fd051e...  0.0     0.0   \n",
       "2        000058a12d5b43e67d225668fa1f8d618c13dc232df0ca...  0.0     0.0   \n",
       "3        00005ca1c9ed5f5146b52ac8639a40ca9d57aeff4d1bd2...  0.0     0.0   \n",
       "4        00006413d8573cd20ed7128e53b7b13819fe5cfc2d801f...  1.0     1.0   \n",
       "...                                                    ...  ...     ...   \n",
       "1371975  ffffbbf78b6eaac697a8a5dfbfd2bfa8113ee5b403e474...  0.0     0.0   \n",
       "1371976  ffffcd5046a6143d29a04fb8c424ce494a76e5cdf4fab5...  0.0     0.0   \n",
       "1371977  ffffcf35913a0bee60e8741cb2b4e78b8a98ee5ff2e6a1...  1.0     1.0   \n",
       "1371978  ffffd7744cebcf3aca44ae7049d2a94b87074c3d4ffe38...  1.0     1.0   \n",
       "1371979  ffffd9ac14e89946416d80e791d064701994755c3ab686...  0.0     0.0   \n",
       "\n",
       "        club_member_status fashion_news_frequency   age  \n",
       "0                   ACTIVE                   NONE  49.0  \n",
       "1                   ACTIVE                   NONE  25.0  \n",
       "2                   ACTIVE                   NONE  24.0  \n",
       "3                   ACTIVE                   NONE  54.0  \n",
       "4                   ACTIVE              Regularly  52.0  \n",
       "...                    ...                    ...   ...  \n",
       "1371975             ACTIVE                   NONE  24.0  \n",
       "1371976             ACTIVE                   NONE  21.0  \n",
       "1371977             ACTIVE              Regularly  21.0  \n",
       "1371978             ACTIVE              Regularly  18.0  \n",
       "1371979         PRE-CREATE                   NONE  65.0  \n",
       "\n",
       "[1371980 rows x 6 columns]"
      ]
     },
     "execution_count": 15,
     "metadata": {},
     "output_type": "execute_result"
    }
   ],
   "source": [
    "drop_columns(customers)"
   ]
  },
  {
   "cell_type": "markdown",
   "id": "7e15e3ee",
   "metadata": {},
   "source": [
    "To try to better understand the nature of the data, we will surch for a relation between the two columns \"FN\" (that we assume are the initials for \"Fashion News\") and \"fashion_news_frequency\" to possibly identify a connection between both features. Here I'll replace NaN for columns FN and Active with 0."
   ]
  },
  {
   "cell_type": "code",
   "execution_count": 21,
   "id": "509c0264",
   "metadata": {},
   "outputs": [
    {
     "data": {
      "text/html": [
       "<div>\n",
       "<style scoped>\n",
       "    .dataframe tbody tr th:only-of-type {\n",
       "        vertical-align: middle;\n",
       "    }\n",
       "\n",
       "    .dataframe tbody tr th {\n",
       "        vertical-align: top;\n",
       "    }\n",
       "\n",
       "    .dataframe thead th {\n",
       "        text-align: right;\n",
       "    }\n",
       "</style>\n",
       "<table border=\"1\" class=\"dataframe\">\n",
       "  <thead>\n",
       "    <tr style=\"text-align: right;\">\n",
       "      <th></th>\n",
       "      <th>customer_id</th>\n",
       "      <th>FN</th>\n",
       "      <th>Active</th>\n",
       "      <th>club_member_status</th>\n",
       "      <th>fashion_news_frequency</th>\n",
       "      <th>age</th>\n",
       "    </tr>\n",
       "  </thead>\n",
       "  <tbody>\n",
       "    <tr>\n",
       "      <th>0</th>\n",
       "      <td>00000dbacae5abe5e23885899a1fa44253a17956c6d1c3...</td>\n",
       "      <td>0.0</td>\n",
       "      <td>0.0</td>\n",
       "      <td>ACTIVE</td>\n",
       "      <td>NONE</td>\n",
       "      <td>49.0</td>\n",
       "    </tr>\n",
       "    <tr>\n",
       "      <th>1</th>\n",
       "      <td>0000423b00ade91418cceaf3b26c6af3dd342b51fd051e...</td>\n",
       "      <td>0.0</td>\n",
       "      <td>0.0</td>\n",
       "      <td>ACTIVE</td>\n",
       "      <td>NONE</td>\n",
       "      <td>25.0</td>\n",
       "    </tr>\n",
       "    <tr>\n",
       "      <th>2</th>\n",
       "      <td>000058a12d5b43e67d225668fa1f8d618c13dc232df0ca...</td>\n",
       "      <td>0.0</td>\n",
       "      <td>0.0</td>\n",
       "      <td>ACTIVE</td>\n",
       "      <td>NONE</td>\n",
       "      <td>24.0</td>\n",
       "    </tr>\n",
       "    <tr>\n",
       "      <th>3</th>\n",
       "      <td>00005ca1c9ed5f5146b52ac8639a40ca9d57aeff4d1bd2...</td>\n",
       "      <td>0.0</td>\n",
       "      <td>0.0</td>\n",
       "      <td>ACTIVE</td>\n",
       "      <td>NONE</td>\n",
       "      <td>54.0</td>\n",
       "    </tr>\n",
       "    <tr>\n",
       "      <th>4</th>\n",
       "      <td>00006413d8573cd20ed7128e53b7b13819fe5cfc2d801f...</td>\n",
       "      <td>1.0</td>\n",
       "      <td>1.0</td>\n",
       "      <td>ACTIVE</td>\n",
       "      <td>Regularly</td>\n",
       "      <td>52.0</td>\n",
       "    </tr>\n",
       "    <tr>\n",
       "      <th>...</th>\n",
       "      <td>...</td>\n",
       "      <td>...</td>\n",
       "      <td>...</td>\n",
       "      <td>...</td>\n",
       "      <td>...</td>\n",
       "      <td>...</td>\n",
       "    </tr>\n",
       "    <tr>\n",
       "      <th>1371975</th>\n",
       "      <td>ffffbbf78b6eaac697a8a5dfbfd2bfa8113ee5b403e474...</td>\n",
       "      <td>0.0</td>\n",
       "      <td>0.0</td>\n",
       "      <td>ACTIVE</td>\n",
       "      <td>NONE</td>\n",
       "      <td>24.0</td>\n",
       "    </tr>\n",
       "    <tr>\n",
       "      <th>1371976</th>\n",
       "      <td>ffffcd5046a6143d29a04fb8c424ce494a76e5cdf4fab5...</td>\n",
       "      <td>0.0</td>\n",
       "      <td>0.0</td>\n",
       "      <td>ACTIVE</td>\n",
       "      <td>NONE</td>\n",
       "      <td>21.0</td>\n",
       "    </tr>\n",
       "    <tr>\n",
       "      <th>1371977</th>\n",
       "      <td>ffffcf35913a0bee60e8741cb2b4e78b8a98ee5ff2e6a1...</td>\n",
       "      <td>1.0</td>\n",
       "      <td>1.0</td>\n",
       "      <td>ACTIVE</td>\n",
       "      <td>Regularly</td>\n",
       "      <td>21.0</td>\n",
       "    </tr>\n",
       "    <tr>\n",
       "      <th>1371978</th>\n",
       "      <td>ffffd7744cebcf3aca44ae7049d2a94b87074c3d4ffe38...</td>\n",
       "      <td>1.0</td>\n",
       "      <td>1.0</td>\n",
       "      <td>ACTIVE</td>\n",
       "      <td>Regularly</td>\n",
       "      <td>18.0</td>\n",
       "    </tr>\n",
       "    <tr>\n",
       "      <th>1371979</th>\n",
       "      <td>ffffd9ac14e89946416d80e791d064701994755c3ab686...</td>\n",
       "      <td>0.0</td>\n",
       "      <td>0.0</td>\n",
       "      <td>PRE-CREATE</td>\n",
       "      <td>NONE</td>\n",
       "      <td>65.0</td>\n",
       "    </tr>\n",
       "  </tbody>\n",
       "</table>\n",
       "<p>1371980 rows × 6 columns</p>\n",
       "</div>"
      ],
      "text/plain": [
       "                                               customer_id   FN  Active  \\\n",
       "0        00000dbacae5abe5e23885899a1fa44253a17956c6d1c3...  0.0     0.0   \n",
       "1        0000423b00ade91418cceaf3b26c6af3dd342b51fd051e...  0.0     0.0   \n",
       "2        000058a12d5b43e67d225668fa1f8d618c13dc232df0ca...  0.0     0.0   \n",
       "3        00005ca1c9ed5f5146b52ac8639a40ca9d57aeff4d1bd2...  0.0     0.0   \n",
       "4        00006413d8573cd20ed7128e53b7b13819fe5cfc2d801f...  1.0     1.0   \n",
       "...                                                    ...  ...     ...   \n",
       "1371975  ffffbbf78b6eaac697a8a5dfbfd2bfa8113ee5b403e474...  0.0     0.0   \n",
       "1371976  ffffcd5046a6143d29a04fb8c424ce494a76e5cdf4fab5...  0.0     0.0   \n",
       "1371977  ffffcf35913a0bee60e8741cb2b4e78b8a98ee5ff2e6a1...  1.0     1.0   \n",
       "1371978  ffffd7744cebcf3aca44ae7049d2a94b87074c3d4ffe38...  1.0     1.0   \n",
       "1371979  ffffd9ac14e89946416d80e791d064701994755c3ab686...  0.0     0.0   \n",
       "\n",
       "        club_member_status fashion_news_frequency   age  \n",
       "0                   ACTIVE                   NONE  49.0  \n",
       "1                   ACTIVE                   NONE  25.0  \n",
       "2                   ACTIVE                   NONE  24.0  \n",
       "3                   ACTIVE                   NONE  54.0  \n",
       "4                   ACTIVE              Regularly  52.0  \n",
       "...                    ...                    ...   ...  \n",
       "1371975             ACTIVE                   NONE  24.0  \n",
       "1371976             ACTIVE                   NONE  21.0  \n",
       "1371977             ACTIVE              Regularly  21.0  \n",
       "1371978             ACTIVE              Regularly  18.0  \n",
       "1371979         PRE-CREATE                   NONE  65.0  \n",
       "\n",
       "[1371980 rows x 6 columns]"
      ]
     },
     "execution_count": 21,
     "metadata": {},
     "output_type": "execute_result"
    }
   ],
   "source": [
    "customers_backup = customers.copy()\n",
    "customers[['FN','Active']] = customers[['FN','Active']].fillna(0)\n",
    "customers"
   ]
  },
  {
   "cell_type": "markdown",
   "id": "1212a564",
   "metadata": {},
   "source": [
    "Now we can see that the number of unique values of 0.0 in the \"FN\" column are closed to the number of \"None\" in \"Fashion News Frequency\". The value of 1.0 in \"FN\" is, in turn, similar to \"Regularly\" in \"Fashion News Frequency\"."
   ]
  },
  {
   "cell_type": "code",
   "execution_count": 16,
   "id": "3936dbd4",
   "metadata": {},
   "outputs": [
    {
     "data": {
      "text/plain": [
       "0.0    895050\n",
       "1.0    476930\n",
       "Name: FN, dtype: int64"
      ]
     },
     "execution_count": 16,
     "metadata": {},
     "output_type": "execute_result"
    }
   ],
   "source": [
    "FN = customers['FN'].value_counts()\n",
    "FN"
   ]
  },
  {
   "cell_type": "code",
   "execution_count": 17,
   "id": "9e131b39",
   "metadata": {},
   "outputs": [
    {
     "data": {
      "text/plain": [
       "NONE         877711\n",
       "Regularly    477416\n",
       "Monthly         842\n",
       "None              2\n",
       "Name: fashion_news_frequency, dtype: int64"
      ]
     },
     "execution_count": 17,
     "metadata": {},
     "output_type": "execute_result"
    }
   ],
   "source": [
    "FN_freq = customers['fashion_news_frequency'].value_counts()\n",
    "FN_freq\n"
   ]
  },
  {
   "cell_type": "markdown",
   "id": "2be7e376",
   "metadata": {},
   "source": [
    "We can confirm the relationship between these values in the spreadsheet below, which shows that the values of \"None\" in \"Fashion News Frequency\" column are mostly related to item 0.0 of the column \"FN\". The values of \"Regularly\" in \"Fashion News Frequency\" are related to 1.0 in \"FN\". But there's a small percentage of the people that receive fashion news regularly and are in the item 0.0 of the \"FN\" column."
   ]
  },
  {
   "cell_type": "code",
   "execution_count": 19,
   "id": "2e0360df",
   "metadata": {
    "scrolled": true
   },
   "outputs": [
    {
     "data": {
      "image/png": "[encoded data removed]",
      "text/plain": [
       "<Figure size 432x288 with 1 Axes>"
      ]
     },
     "metadata": {
      "needs_background": "light"
     },
     "output_type": "display_data"
    }
   ],
   "source": [
    "sns.countplot(x='FN', hue='fashion_news_frequency', data=customers)\n",
    "plt.show();"
   ]
  },
  {
   "cell_type": "markdown",
   "id": "04320600",
   "metadata": {},
   "source": [
    "We can also see some relation between the column \"FN\" and \"Active\"."
   ]
  },
  {
   "cell_type": "code",
   "execution_count": 23,
   "id": "77f9eb00",
   "metadata": {},
   "outputs": [
    {
     "data": {
      "image/png": "[encoded data removed]",
      "text/plain": [
       "<Figure size 360x360 with 1 Axes>"
      ]
     },
     "metadata": {},
     "output_type": "display_data"
    }
   ],
   "source": [
    "fig, ax = plt.subplots(figsize=(5,5))\n",
    "explode = (0, 0.1)\n",
    "colors = sns.color_palette('Paired')\n",
    "ax.pie(customers['FN'].value_counts(), explode=explode, labels=['Not-FN','FN'],\n",
    "       autopct='%1.1f%%',shadow=True, startangle=90, colors=colors)\n",
    "ax.axis('equal')\n",
    "plt.show();"
   ]
  },
  {
   "cell_type": "code",
   "execution_count": 31,
   "id": "40f1d9f2",
   "metadata": {},
   "outputs": [
    {
     "data": {
      "image/png": "[encoded data removed]",
      "text/plain": [
       "<Figure size 360x360 with 1 Axes>"
      ]
     },
     "metadata": {},
     "output_type": "display_data"
    }
   ],
   "source": [
    "fig, ax = plt.subplots(figsize=(5,5))\n",
    "explode = (0, 0.1)\n",
    "colors = sns.color_palette('Paired')\n",
    "ax.pie(customers['Active'].value_counts(), explode=explode, labels=['Not-active','Active'],\n",
    "       autopct='%1.1f%%',shadow=True, startangle=90, colors=colors)\n",
    "ax.axis('equal')\n",
    "plt.show();"
   ]
  },
  {
   "cell_type": "markdown",
   "id": "223a6264",
   "metadata": {},
   "source": [
    "Percentage of customers that have both FN and Active status: 33.85%. It look that all custmoers that are Active have also FN status. But reverse is not true - not all users with FN status are active, as we can see in the chart below:"
   ]
  },
  {
   "cell_type": "code",
   "execution_count": 32,
   "id": "2eb1ad79",
   "metadata": {},
   "outputs": [
    {
     "data": {
      "image/png": "[encoded data removed]",
      "text/plain": [
       "<Figure size 432x288 with 1 Axes>"
      ]
     },
     "metadata": {
      "needs_background": "light"
     },
     "output_type": "display_data"
    }
   ],
   "source": [
    "sns.countplot(x='FN', hue='Active', data=customers)\n",
    "plt.show();"
   ]
  },
  {
   "cell_type": "code",
   "execution_count": null,
   "id": "3c5ac102",
   "metadata": {},
   "outputs": [],
   "source": []
  },
  {
   "cell_type": "code",
   "execution_count": 40,
   "id": "2ec5debb",
   "metadata": {},
   "outputs": [
    {
     "data": {
      "image/png": "[encoded data removed]",
      "text/plain": [
       "<Figure size 720x360 with 1 Axes>"
      ]
     },
     "metadata": {
      "needs_background": "light"
     },
     "output_type": "display_data"
    }
   ],
   "source": [
    "fig, ax = plt.subplots(figsize=(10,5))\n",
    "ax = sns.histplot(data=customers, x='age', bins=customers['age'].nunique(), color='orange', stat=\"percent\")\n",
    "ax.set_xlabel('Distribution of the customers age')\n",
    "for loc in ['bottom', 'left']:\n",
    "    ax.spines[loc].set_visible(True)\n",
    "    ax.spines[loc].set_linewidth(2)\n",
    "    ax.spines[loc].set_color('black')\n",
    "ax.yaxis.set_major_formatter(mtick.PercentFormatter())\n",
    "median = customers['age'].median()\n",
    "ax.axvline(x=median, color=\"green\", ls=\"--\")\n",
    "ax.text(median, 3.5, 'median: {}'.format(round(median,1)), rotation='vertical', ha='right')\n",
    "ax.text(12, 5.5, 'Distribution of customers age', color='black', fontsize=10, ha='left', va='bottom', weight='bold', style='italic')\n",
    "plt.show();"
   ]
  },
  {
   "cell_type": "markdown",
   "id": "3e238814",
   "metadata": {},
   "source": [
    "The distribution shows that there are two main age-groups of customers: around 20-30 years old and 45-55 years old."
   ]
  },
  {
   "cell_type": "code",
   "execution_count": 41,
   "id": "47ea2d36",
   "metadata": {},
   "outputs": [
    {
     "data": {
      "image/png": "[encoded data removed]",
      "text/plain": [
       "<Figure size 720x360 with 1 Axes>"
      ]
     },
     "metadata": {
      "needs_background": "light"
     },
     "output_type": "display_data"
    }
   ],
   "source": [
    "fig, ax = plt.subplots(figsize=(10,5))\n",
    "ax = sns.histplot(data=customers, x='age', bins=customers['age'].nunique(), hue='FN', stat=\"percent\")\n",
    "ax.set_xlabel('Distribution of the customers age')\n",
    "for loc in ['bottom', 'left']:\n",
    "    ax.spines[loc].set_visible(True)\n",
    "    ax.spines[loc].set_linewidth(2)\n",
    "    ax.spines[loc].set_color('black')\n",
    "ax.yaxis.set_major_formatter(mtick.PercentFormatter())\n",
    "plt.show();"
   ]
  },
  {
   "cell_type": "markdown",
   "id": "b6bc39d1",
   "metadata": {},
   "source": [
    "Therefore, we did some data cleaning, removing the \"FN\" column, as this column will be redundant for further analyses."
   ]
  },
  {
   "cell_type": "code",
   "execution_count": null,
   "id": "c878a0de",
   "metadata": {},
   "outputs": [],
   "source": [
    "# As pessoas que receberam FN estao ativas. Checar se isso tem a ver com as vendas tambem."
   ]
  },
  {
   "cell_type": "markdown",
   "id": "c5826a99",
   "metadata": {},
   "source": [
    "### 3. Transactions database:\n",
    "\n",
    "in this trans dataframe we can see the transactions every day, during the period between September 2018 and September 2020."
   ]
  },
  {
   "cell_type": "code",
   "execution_count": 53,
   "id": "f1c14942",
   "metadata": {},
   "outputs": [
    {
     "data": {
      "text/html": [
       "<div>\n",
       "<style scoped>\n",
       "    .dataframe tbody tr th:only-of-type {\n",
       "        vertical-align: middle;\n",
       "    }\n",
       "\n",
       "    .dataframe tbody tr th {\n",
       "        vertical-align: top;\n",
       "    }\n",
       "\n",
       "    .dataframe thead th {\n",
       "        text-align: right;\n",
       "    }\n",
       "</style>\n",
       "<table border=\"1\" class=\"dataframe\">\n",
       "  <thead>\n",
       "    <tr style=\"text-align: right;\">\n",
       "      <th></th>\n",
       "      <th>t_dat</th>\n",
       "      <th>customer_id</th>\n",
       "      <th>article_id</th>\n",
       "      <th>price</th>\n",
       "      <th>sales_channel_id</th>\n",
       "    </tr>\n",
       "  </thead>\n",
       "  <tbody>\n",
       "    <tr>\n",
       "      <th>0</th>\n",
       "      <td>2018-09-20</td>\n",
       "      <td>000058a12d5b43e67d225668fa1f8d618c13dc232df0ca...</td>\n",
       "      <td>663713001</td>\n",
       "      <td>0.050831</td>\n",
       "      <td>2</td>\n",
       "    </tr>\n",
       "    <tr>\n",
       "      <th>1</th>\n",
       "      <td>2018-09-20</td>\n",
       "      <td>000058a12d5b43e67d225668fa1f8d618c13dc232df0ca...</td>\n",
       "      <td>541518023</td>\n",
       "      <td>0.030492</td>\n",
       "      <td>2</td>\n",
       "    </tr>\n",
       "    <tr>\n",
       "      <th>2</th>\n",
       "      <td>2018-09-20</td>\n",
       "      <td>00007d2de826758b65a93dd24ce629ed66842531df6699...</td>\n",
       "      <td>505221004</td>\n",
       "      <td>0.015237</td>\n",
       "      <td>2</td>\n",
       "    </tr>\n",
       "    <tr>\n",
       "      <th>3</th>\n",
       "      <td>2018-09-20</td>\n",
       "      <td>00007d2de826758b65a93dd24ce629ed66842531df6699...</td>\n",
       "      <td>685687003</td>\n",
       "      <td>0.016932</td>\n",
       "      <td>2</td>\n",
       "    </tr>\n",
       "    <tr>\n",
       "      <th>4</th>\n",
       "      <td>2018-09-20</td>\n",
       "      <td>00007d2de826758b65a93dd24ce629ed66842531df6699...</td>\n",
       "      <td>685687004</td>\n",
       "      <td>0.016932</td>\n",
       "      <td>2</td>\n",
       "    </tr>\n",
       "    <tr>\n",
       "      <th>...</th>\n",
       "      <td>...</td>\n",
       "      <td>...</td>\n",
       "      <td>...</td>\n",
       "      <td>...</td>\n",
       "      <td>...</td>\n",
       "    </tr>\n",
       "    <tr>\n",
       "      <th>31788319</th>\n",
       "      <td>2020-09-22</td>\n",
       "      <td>fff2282977442e327b45d8c89afde25617d00124d0f999...</td>\n",
       "      <td>929511001</td>\n",
       "      <td>0.059305</td>\n",
       "      <td>2</td>\n",
       "    </tr>\n",
       "    <tr>\n",
       "      <th>31788320</th>\n",
       "      <td>2020-09-22</td>\n",
       "      <td>fff2282977442e327b45d8c89afde25617d00124d0f999...</td>\n",
       "      <td>891322004</td>\n",
       "      <td>0.042356</td>\n",
       "      <td>2</td>\n",
       "    </tr>\n",
       "    <tr>\n",
       "      <th>31788321</th>\n",
       "      <td>2020-09-22</td>\n",
       "      <td>fff380805474b287b05cb2a7507b9a013482f7dd0bce0e...</td>\n",
       "      <td>918325001</td>\n",
       "      <td>0.043203</td>\n",
       "      <td>1</td>\n",
       "    </tr>\n",
       "    <tr>\n",
       "      <th>31788322</th>\n",
       "      <td>2020-09-22</td>\n",
       "      <td>fff4d3a8b1f3b60af93e78c30a7cb4cf75edaf2590d3e5...</td>\n",
       "      <td>833459002</td>\n",
       "      <td>0.006763</td>\n",
       "      <td>1</td>\n",
       "    </tr>\n",
       "    <tr>\n",
       "      <th>31788323</th>\n",
       "      <td>2020-09-22</td>\n",
       "      <td>fffef3b6b73545df065b521e19f64bf6fe93bfd450ab20...</td>\n",
       "      <td>898573003</td>\n",
       "      <td>0.033881</td>\n",
       "      <td>2</td>\n",
       "    </tr>\n",
       "  </tbody>\n",
       "</table>\n",
       "<p>31788324 rows × 5 columns</p>\n",
       "</div>"
      ],
      "text/plain": [
       "               t_dat                                        customer_id  \\\n",
       "0         2018-09-20  000058a12d5b43e67d225668fa1f8d618c13dc232df0ca...   \n",
       "1         2018-09-20  000058a12d5b43e67d225668fa1f8d618c13dc232df0ca...   \n",
       "2         2018-09-20  00007d2de826758b65a93dd24ce629ed66842531df6699...   \n",
       "3         2018-09-20  00007d2de826758b65a93dd24ce629ed66842531df6699...   \n",
       "4         2018-09-20  00007d2de826758b65a93dd24ce629ed66842531df6699...   \n",
       "...              ...                                                ...   \n",
       "31788319  2020-09-22  fff2282977442e327b45d8c89afde25617d00124d0f999...   \n",
       "31788320  2020-09-22  fff2282977442e327b45d8c89afde25617d00124d0f999...   \n",
       "31788321  2020-09-22  fff380805474b287b05cb2a7507b9a013482f7dd0bce0e...   \n",
       "31788322  2020-09-22  fff4d3a8b1f3b60af93e78c30a7cb4cf75edaf2590d3e5...   \n",
       "31788323  2020-09-22  fffef3b6b73545df065b521e19f64bf6fe93bfd450ab20...   \n",
       "\n",
       "          article_id     price  sales_channel_id  \n",
       "0          663713001  0.050831                 2  \n",
       "1          541518023  0.030492                 2  \n",
       "2          505221004  0.015237                 2  \n",
       "3          685687003  0.016932                 2  \n",
       "4          685687004  0.016932                 2  \n",
       "...              ...       ...               ...  \n",
       "31788319   929511001  0.059305                 2  \n",
       "31788320   891322004  0.042356                 2  \n",
       "31788321   918325001  0.043203                 1  \n",
       "31788322   833459002  0.006763                 1  \n",
       "31788323   898573003  0.033881                 2  \n",
       "\n",
       "[31788324 rows x 5 columns]"
      ]
     },
     "execution_count": 53,
     "metadata": {},
     "output_type": "execute_result"
    }
   ],
   "source": [
    "transactions = pd.read_csv ('transactions_train.csv')\n",
    "transactions"
   ]
  },
  {
   "cell_type": "markdown",
   "id": "2235a0bf",
   "metadata": {},
   "source": [
    "The data collected pertains to the period from September 2018 to September 2020."
   ]
  },
  {
   "cell_type": "code",
   "execution_count": 8,
   "id": "79edfe08",
   "metadata": {},
   "outputs": [
    {
     "data": {
      "text/plain": [
       "2019-09-28    198622\n",
       "2020-04-11    162799\n",
       "2019-11-29    160875\n",
       "2018-11-23    142018\n",
       "2018-09-29    141700\n",
       "               ...  \n",
       "2019-01-01     18145\n",
       "2018-09-22     17635\n",
       "2018-12-25     14799\n",
       "2019-12-25     13637\n",
       "2020-01-01     12760\n",
       "Name: t_dat, Length: 734, dtype: int64"
      ]
     },
     "execution_count": 8,
     "metadata": {},
     "output_type": "execute_result"
    }
   ],
   "source": [
    "days = transactions['t_dat'].value_counts()\n",
    "days"
   ]
  },
  {
   "cell_type": "code",
   "execution_count": 10,
   "id": "195976ce",
   "metadata": {},
   "outputs": [
    {
     "data": {
      "text/plain": [
       "'2020-09-22'"
      ]
     },
     "execution_count": 10,
     "metadata": {},
     "output_type": "execute_result"
    }
   ],
   "source": [
    "transactions['t_dat'].max()"
   ]
  },
  {
   "cell_type": "code",
   "execution_count": 11,
   "id": "2800e627",
   "metadata": {},
   "outputs": [
    {
     "data": {
      "text/plain": [
       "'2018-09-20'"
      ]
     },
     "execution_count": 11,
     "metadata": {},
     "output_type": "execute_result"
    }
   ],
   "source": [
    "transactions['t_dat'].min()"
   ]
  },
  {
   "cell_type": "markdown",
   "id": "07772bdd",
   "metadata": {},
   "source": [
    "#### Key figures:\n",
    "\n",
    "- 31.788.324 rows in the dataset\n",
    "- 5 features in the dataset\n",
    "- 1 text column in the dataset\n",
    "- 3 numeric columns in the dataset"
   ]
  },
  {
   "cell_type": "markdown",
   "id": "1d58d460",
   "metadata": {},
   "source": [
    "Columns description:\n",
    "\n",
    "- t_dat - date of a transaction in format YYYY-MM-DD but provided as a string\n",
    "- customer_id - identifier of the customer which can be mapped to the customer_id column in the customers table\n",
    "- article_id - identifier of the product which can be mapped to the article_id column in the articles table\n",
    "- price - price paid\n",
    "- sales_channel_id - sales channel, 2 unique values"
   ]
  },
  {
   "cell_type": "code",
   "execution_count": 54,
   "id": "6e632f0f",
   "metadata": {},
   "outputs": [
    {
     "data": {
      "text/plain": [
       "t_dat               0\n",
       "customer_id         0\n",
       "article_id          0\n",
       "price               0\n",
       "sales_channel_id    0\n",
       "dtype: int64"
      ]
     },
     "execution_count": 54,
     "metadata": {},
     "output_type": "execute_result"
    }
   ],
   "source": [
    "transactions.isna().sum()"
   ]
  },
  {
   "cell_type": "markdown",
   "id": "9a4b1c9e",
   "metadata": {},
   "source": [
    "There are no missing data."
   ]
  },
  {
   "cell_type": "code",
   "execution_count": 56,
   "id": "9064b281",
   "metadata": {},
   "outputs": [
    {
     "data": {
      "image/png": "[encoded data removed]",
      "text/plain": [
       "<Figure size 720x360 with 1 Axes>"
      ]
     },
     "metadata": {},
     "output_type": "display_data"
    }
   ],
   "source": [
    "sns.set_style(\"darkgrid\", {\"axes.facecolor\": \".9\"})\n",
    "fig, ax = plt.subplots(figsize=(10,5), facecolor='#f6f5f5')\n",
    "ax = sns.histplot(data=transactions, x='price', bins=50, stat=\"percent\")\n",
    "ax.set_xlabel('Distribution of the price')\n",
    "for loc in ['bottom', 'left']:\n",
    "    ax.spines[loc].set_visible(True)\n",
    "    ax.spines[loc].set_linewidth(2)\n",
    "    ax.spines[loc].set_color('black')\n",
    "ax.yaxis.set_major_formatter(mtick.PercentFormatter())\n",
    "plt.show();"
   ]
  },
  {
   "cell_type": "markdown",
   "id": "fcb3f419",
   "metadata": {},
   "source": [
    "It's clear from the above graph that the value of prices are standardized and there's a lot o outliers. That's why we cutted the values above 0.1."
   ]
  },
  {
   "cell_type": "code",
   "execution_count": 58,
   "id": "ebf7e29e",
   "metadata": {},
   "outputs": [
    {
     "data": {
      "image/png": "[encoded data removed]",
      "text/plain": [
       "<Figure size 720x360 with 1 Axes>"
      ]
     },
     "metadata": {},
     "output_type": "display_data"
    }
   ],
   "source": [
    "fig, ax = plt.subplots(figsize=(10,5), facecolor='#f6f5f5')\n",
    "data = transactions[transactions['price']<0.1]\n",
    "ax = sns.histplot(data=data, x='price', bins=20, stat=\"percent\")\n",
    "ax.set_xlabel('Distribution of the price')\n",
    "for loc in ['bottom', 'left']:\n",
    "    ax.spines[loc].set_visible(True)\n",
    "    ax.spines[loc].set_linewidth(2)\n",
    "    ax.spines[loc].set_color('black')\n",
    "ax.yaxis.set_major_formatter(mtick.PercentFormatter())\n",
    "plt.show();"
   ]
  },
  {
   "cell_type": "code",
   "execution_count": 59,
   "id": "445a5d77",
   "metadata": {},
   "outputs": [],
   "source": [
    "#os produtos mais caros sao os mais vendidos?"
   ]
  },
  {
   "cell_type": "code",
   "execution_count": 71,
   "id": "fc38241f",
   "metadata": {},
   "outputs": [
    {
     "name": "stdout",
     "output_type": "stream",
     "text": [
      "Date range is from 2018-09-20 to 2020-09-22.\n"
     ]
    }
   ],
   "source": [
    "begin = transactions['t_dat'].min()\n",
    "end = transactions['t_dat'].max()\n",
    "print('Date range is from {} to {}.'.format(begin.date(), end.date()))\n"
   ]
  },
  {
   "cell_type": "code",
   "execution_count": 72,
   "id": "385f1591",
   "metadata": {},
   "outputs": [],
   "source": [
    "transactions['t_dat'] = pd.to_datetime(transactions['t_dat'])\n",
    "t_per_day = transactions.groupby('t_dat',as_index=False).count()"
   ]
  },
  {
   "cell_type": "code",
   "execution_count": 78,
   "id": "645e1291",
   "metadata": {},
   "outputs": [
    {
     "data": {
      "image/png": "[encoded data removed]",
      "text/plain": [
       "<Figure size 1152x576 with 1 Axes>"
      ]
     },
     "metadata": {},
     "output_type": "display_data"
    }
   ],
   "source": [
    "fig, ax = plt.subplots(figsize=(16,8))\n",
    "\n",
    "sns.lineplot(data=t_per_day, x='t_dat',y='customer_id')\n",
    "\n",
    "ax.set_xlabel('date')\n",
    "ax.set_ylabel('number of transactions')\n",
    "\n",
    "max_t = t_per_day['customer_id'].max()\n",
    "max_t_date = t_per_day[t_per_day['customer_id']==max_t]['t_dat']\n",
    "ax.scatter(max_t_date, max_t, c='red')\n",
    "ax.text(max_t_date+pd.DateOffset(days=5), max_t-4000, '{}\\n{:,d}'.format(max_t_date.iloc[0].date(), max_t))\n",
    "\n",
    "min_t = t_per_day['customer_id'].min()\n",
    "min_t_date = t_per_day[t_per_day['customer_id']==min_t]['t_dat']\n",
    "ax.scatter(min_t_date, min_t, c='red')\n",
    "ax.text(min_t_date+pd.DateOffset(days=5), min_t-4000, '{}\\n{:,d}'.format(min_t_date.iloc[0].date(), min_t))\n",
    "ax.set_xlim(transactions['t_dat'].min(),transactions['t_dat'].max())\n",
    "\n",
    "for loc in ['bottom', 'left']:\n",
    "    ax.spines[loc].set_visible(True)\n",
    "    ax.spines[loc].set_linewidth(2)\n",
    "    ax.spines[loc].set_color('black')\n",
    "\n",
    "plt.show();"
   ]
  },
  {
   "cell_type": "code",
   "execution_count": 80,
   "id": "6480428d",
   "metadata": {},
   "outputs": [
    {
     "data": {
      "image/png": "[encoded data removed]",
      "text/plain": [
       "<Figure size 1152x576 with 1 Axes>"
      ]
     },
     "metadata": {},
     "output_type": "display_data"
    }
   ],
   "source": [
    "trans_gr_month = transactions.groupby('t_dat').size().rename(\"no_transactions\")\n",
    "trans_gr_month = trans_gr_month.reset_index()\n",
    "trans_gr_month['month_year'] = trans_gr_month['t_dat'].dt.to_period('M')\n",
    "\n",
    "fig, ax = plt.subplots(figsize=(16,8))\n",
    "ax = sns.boxplot(x=\"month_year\", y='no_transactions', data=trans_gr_month)\n",
    "plt.xticks(rotation=90)\n",
    "for loc in ['bottom', 'left']:\n",
    "    ax.spines[loc].set_visible(True)\n",
    "    ax.spines[loc].set_linewidth(2)\n",
    "    ax.spines[loc].set_color('black')\n",
    "ax.set_xlabel('Month-Year')\n",
    "ax.set_ylabel('Number of transactions')\n",
    "plt.show();"
   ]
  },
  {
   "cell_type": "markdown",
   "id": "5f8665a6",
   "metadata": {},
   "source": [
    "The bar chart above show us that per day usuall number of transactions lays in range about between 25 000 and 80 000 transactions per day. We see also that sales spikes during summertime and drops during winter.\n",
    "\n",
    "Now, let's see how many transactions, on average, customers do."
   ]
  },
  {
   "cell_type": "code",
   "execution_count": 82,
   "id": "18e90e3c",
   "metadata": {},
   "outputs": [
    {
     "data": {
      "image/png": "[encoded data removed]",
      "text/plain": [
       "<Figure size 720x360 with 1 Axes>"
      ]
     },
     "metadata": {},
     "output_type": "display_data"
    }
   ],
   "source": [
    "t_by_customer = transactions.groupby('customer_id', as_index=False).size()\n",
    "\n",
    "fig, ax = plt.subplots(figsize=(10,5))\n",
    "ax = sns.histplot(data=t_by_customer, x='size', bins=50, stat=\"percent\")\n",
    "ax.set_xlabel('Distribution of total transactions per customer')\n",
    "for loc in ['bottom', 'left']:\n",
    "    ax.spines[loc].set_visible(True)\n",
    "    ax.spines[loc].set_linewidth(2)\n",
    "    ax.spines[loc].set_color('black')\n",
    "ax.yaxis.set_major_formatter(mtick.PercentFormatter())\n",
    "plt.show();"
   ]
  },
  {
   "cell_type": "markdown",
   "id": "8f8df438",
   "metadata": {},
   "source": [
    "Clearly there's a lot of outliers. Let's look at the distribution after cutting everything above 50 trasactions per customer."
   ]
  },
  {
   "cell_type": "code",
   "execution_count": 83,
   "id": "d686bf40",
   "metadata": {},
   "outputs": [
    {
     "data": {
      "image/png": "[encoded data removed]",
      "text/plain": [
       "<Figure size 720x360 with 1 Axes>"
      ]
     },
     "metadata": {},
     "output_type": "display_data"
    }
   ],
   "source": [
    "t_by_customer_50tr = t_by_customer[t_by_customer['size'] < 50]\n",
    "\n",
    "fig, ax = plt.subplots(figsize=(10,5))\n",
    "ax = sns.histplot(data=t_by_customer_50tr, x='size', bins=50, stat=\"percent\")\n",
    "ax.set_xlabel('Distribution of total transactions per customer')\n",
    "for loc in ['bottom', 'left']:\n",
    "    ax.spines[loc].set_visible(True)\n",
    "    ax.spines[loc].set_linewidth(2)\n",
    "    ax.spines[loc].set_color('black')\n",
    "ax.yaxis.set_major_formatter(mtick.PercentFormatter())\n",
    "plt.show();"
   ]
  },
  {
   "cell_type": "markdown",
   "id": "67434892",
   "metadata": {},
   "source": [
    "The graph above shows us that most of customers, on average, bought only few items during these 2 years.\n",
    "\n",
    "Let's see now the popularity of sale channels."
   ]
  },
  {
   "cell_type": "code",
   "execution_count": 84,
   "id": "b960f64e",
   "metadata": {},
   "outputs": [
    {
     "data": {
      "image/png": "[encoded data removed]",
      "text/plain": [
       "<Figure size 360x360 with 1 Axes>"
      ]
     },
     "metadata": {},
     "output_type": "display_data"
    }
   ],
   "source": [
    "fig, ax = plt.subplots(figsize=(5,5))\n",
    "explode = (0, 0.1)\n",
    "colors = sns.color_palette('Paired')\n",
    "ax.pie(transactions['sales_channel_id'].value_counts(), explode=explode, labels=['1','2'],\n",
    "       autopct='%1.1f%%',shadow=True, startangle=90, colors=colors)\n",
    "ax.axis('equal')\n",
    "ax.set_title('Sale channel')\n",
    "plt.show();"
   ]
  },
  {
   "cell_type": "markdown",
   "id": "c7605c88",
   "metadata": {},
   "source": [
    "# 4. Combined databases EDA"
   ]
  },
  {
   "cell_type": "code",
   "execution_count": 86,
   "id": "039744a3",
   "metadata": {},
   "outputs": [
    {
     "data": {
      "text/html": [
       "<div>\n",
       "<style scoped>\n",
       "    .dataframe tbody tr th:only-of-type {\n",
       "        vertical-align: middle;\n",
       "    }\n",
       "\n",
       "    .dataframe tbody tr th {\n",
       "        vertical-align: top;\n",
       "    }\n",
       "\n",
       "    .dataframe thead th {\n",
       "        text-align: right;\n",
       "    }\n",
       "</style>\n",
       "<table border=\"1\" class=\"dataframe\">\n",
       "  <thead>\n",
       "    <tr style=\"text-align: right;\">\n",
       "      <th></th>\n",
       "      <th>t_dat</th>\n",
       "      <th>customer_id</th>\n",
       "      <th>article_id</th>\n",
       "      <th>price</th>\n",
       "      <th>sales_channel_id</th>\n",
       "      <th>year_month</th>\n",
       "    </tr>\n",
       "  </thead>\n",
       "  <tbody>\n",
       "    <tr>\n",
       "      <th>0</th>\n",
       "      <td>2018-09-20</td>\n",
       "      <td>000058a12d5b43e67d225668fa1f8d618c13dc232df0ca...</td>\n",
       "      <td>663713001</td>\n",
       "      <td>0.050831</td>\n",
       "      <td>2</td>\n",
       "      <td>2018-09</td>\n",
       "    </tr>\n",
       "    <tr>\n",
       "      <th>1</th>\n",
       "      <td>2018-09-20</td>\n",
       "      <td>000058a12d5b43e67d225668fa1f8d618c13dc232df0ca...</td>\n",
       "      <td>541518023</td>\n",
       "      <td>0.030492</td>\n",
       "      <td>2</td>\n",
       "      <td>2018-09</td>\n",
       "    </tr>\n",
       "    <tr>\n",
       "      <th>2</th>\n",
       "      <td>2018-09-20</td>\n",
       "      <td>00007d2de826758b65a93dd24ce629ed66842531df6699...</td>\n",
       "      <td>505221004</td>\n",
       "      <td>0.015237</td>\n",
       "      <td>2</td>\n",
       "      <td>2018-09</td>\n",
       "    </tr>\n",
       "    <tr>\n",
       "      <th>3</th>\n",
       "      <td>2018-09-20</td>\n",
       "      <td>00007d2de826758b65a93dd24ce629ed66842531df6699...</td>\n",
       "      <td>685687003</td>\n",
       "      <td>0.016932</td>\n",
       "      <td>2</td>\n",
       "      <td>2018-09</td>\n",
       "    </tr>\n",
       "    <tr>\n",
       "      <th>4</th>\n",
       "      <td>2018-09-20</td>\n",
       "      <td>00007d2de826758b65a93dd24ce629ed66842531df6699...</td>\n",
       "      <td>685687004</td>\n",
       "      <td>0.016932</td>\n",
       "      <td>2</td>\n",
       "      <td>2018-09</td>\n",
       "    </tr>\n",
       "  </tbody>\n",
       "</table>\n",
       "</div>"
      ],
      "text/plain": [
       "       t_dat                                        customer_id  article_id  \\\n",
       "0 2018-09-20  000058a12d5b43e67d225668fa1f8d618c13dc232df0ca...   663713001   \n",
       "1 2018-09-20  000058a12d5b43e67d225668fa1f8d618c13dc232df0ca...   541518023   \n",
       "2 2018-09-20  00007d2de826758b65a93dd24ce629ed66842531df6699...   505221004   \n",
       "3 2018-09-20  00007d2de826758b65a93dd24ce629ed66842531df6699...   685687003   \n",
       "4 2018-09-20  00007d2de826758b65a93dd24ce629ed66842531df6699...   685687004   \n",
       "\n",
       "      price  sales_channel_id year_month  \n",
       "0  0.050831                 2    2018-09  \n",
       "1  0.030492                 2    2018-09  \n",
       "2  0.015237                 2    2018-09  \n",
       "3  0.016932                 2    2018-09  \n",
       "4  0.016932                 2    2018-09  "
      ]
     },
     "execution_count": 86,
     "metadata": {},
     "output_type": "execute_result"
    }
   ],
   "source": [
    "#trans['month'] = trans['t_dat'].dt.month\n",
    "#trans['year'] = trans['t_dat'].dt.year\n",
    "transactions['year_month'] = transactions['t_dat'].dt.to_period('M')\n",
    "transactions.head()"
   ]
  },
  {
   "cell_type": "code",
   "execution_count": 87,
   "id": "d60278c0",
   "metadata": {},
   "outputs": [],
   "source": [
    "trans_grouped = transactions.groupby(['year_month', 'article_id']).size().rename('total_per_article').to_frame()"
   ]
  },
  {
   "cell_type": "code",
   "execution_count": 88,
   "id": "4f66a92e",
   "metadata": {},
   "outputs": [
    {
     "data": {
      "text/html": [
       "<div>\n",
       "<style scoped>\n",
       "    .dataframe tbody tr th:only-of-type {\n",
       "        vertical-align: middle;\n",
       "    }\n",
       "\n",
       "    .dataframe tbody tr th {\n",
       "        vertical-align: top;\n",
       "    }\n",
       "\n",
       "    .dataframe thead th {\n",
       "        text-align: right;\n",
       "    }\n",
       "</style>\n",
       "<table border=\"1\" class=\"dataframe\">\n",
       "  <thead>\n",
       "    <tr style=\"text-align: right;\">\n",
       "      <th></th>\n",
       "      <th></th>\n",
       "      <th>total_per_article</th>\n",
       "    </tr>\n",
       "    <tr>\n",
       "      <th>year_month</th>\n",
       "      <th>article_id</th>\n",
       "      <th></th>\n",
       "    </tr>\n",
       "  </thead>\n",
       "  <tbody>\n",
       "    <tr>\n",
       "      <th rowspan=\"5\" valign=\"top\">2018-09</th>\n",
       "      <th>108775015</th>\n",
       "      <td>662</td>\n",
       "    </tr>\n",
       "    <tr>\n",
       "      <th>108775044</th>\n",
       "      <td>283</td>\n",
       "    </tr>\n",
       "    <tr>\n",
       "      <th>108775051</th>\n",
       "      <td>59</td>\n",
       "    </tr>\n",
       "    <tr>\n",
       "      <th>110065001</th>\n",
       "      <td>69</td>\n",
       "    </tr>\n",
       "    <tr>\n",
       "      <th>110065002</th>\n",
       "      <td>27</td>\n",
       "    </tr>\n",
       "  </tbody>\n",
       "</table>\n",
       "</div>"
      ],
      "text/plain": [
       "                       total_per_article\n",
       "year_month article_id                   \n",
       "2018-09    108775015                 662\n",
       "           108775044                 283\n",
       "           108775051                  59\n",
       "           110065001                  69\n",
       "           110065002                  27"
      ]
     },
     "execution_count": 88,
     "metadata": {},
     "output_type": "execute_result"
    }
   ],
   "source": [
    "trans_grouped.head()"
   ]
  },
  {
   "cell_type": "code",
   "execution_count": 89,
   "id": "68cc5b86",
   "metadata": {},
   "outputs": [],
   "source": [
    "#trans_grouped.reset_index(inplace=True)"
   ]
  },
  {
   "cell_type": "code",
   "execution_count": null,
   "id": "8ed97211",
   "metadata": {},
   "outputs": [],
   "source": [
    "#art_trans = pd.merge(articles[['article_id', 'index_name']], trans_grouped, on='article_id')"
   ]
  },
  {
   "cell_type": "code",
   "execution_count": 90,
   "id": "8c0f0d77",
   "metadata": {},
   "outputs": [],
   "source": [
    "#art_trans = art_trans.groupby(['year_month','index_name'])['total_per_article'].sum().to_frame()\n",
    "#art_trans.head()"
   ]
  },
  {
   "cell_type": "code",
   "execution_count": null,
   "id": "2db0b375",
   "metadata": {},
   "outputs": [],
   "source": []
  }
 ],
 "metadata": {
  "kernelspec": {
   "display_name": "Python 3 (ipykernel)",
   "language": "python",
   "name": "python3"
  },
  "language_info": {
   "codemirror_mode": {
    "name": "ipython",
    "version": 3
   },
   "file_extension": ".py",
   "mimetype": "text/x-python",
   "name": "python",
   "nbconvert_exporter": "python",
   "pygments_lexer": "ipython3",
   "version": "3.9.7"
  }
 },
 "nbformat": 4,
 "nbformat_minor": 5
}
